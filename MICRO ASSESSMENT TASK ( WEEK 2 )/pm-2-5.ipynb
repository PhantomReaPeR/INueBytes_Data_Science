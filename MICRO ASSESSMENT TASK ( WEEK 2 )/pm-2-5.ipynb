{
 "cells": [
  {
   "cell_type": "code",
   "execution_count": 1,
   "id": "28022bc8",
   "metadata": {
    "_cell_guid": "b1076dfc-b9ad-4769-8c92-a6c4dae69d19",
    "_uuid": "8f2839f25d086af736a60e9eeb907d3b93b6e0e5",
    "execution": {
     "iopub.execute_input": "2023-08-17T23:45:08.347128Z",
     "iopub.status.busy": "2023-08-17T23:45:08.346647Z",
     "iopub.status.idle": "2023-08-17T23:45:08.367586Z",
     "shell.execute_reply": "2023-08-17T23:45:08.366483Z"
    },
    "papermill": {
     "duration": 0.03415,
     "end_time": "2023-08-17T23:45:08.369237",
     "exception": false,
     "start_time": "2023-08-17T23:45:08.335087",
     "status": "completed"
    },
    "tags": []
   },
   "outputs": [
    {
     "name": "stdout",
     "output_type": "stream",
     "text": [
      "/kaggle/input/pm25-airpolution-dataset/PRSA_data_2010.1.1-2014.12.31.csv\n"
     ]
    }
   ],
   "source": [
    "# This Python 3 environment comes with many helpful analytics libraries installed\n",
    "# It is defined by the kaggle/python Docker image: https://github.com/kaggle/docker-python\n",
    "# For example, here's several helpful packages to load\n",
    "\n",
    "import numpy as np # linear algebra\n",
    "import pandas as pd # data processing, CSV file I/O (e.g. pd.read_csv)\n",
    "\n",
    "# Input data files are available in the read-only \"../input/\" directory\n",
    "# For example, running this (by clicking run or pressing Shift+Enter) will list all files under the input directory\n",
    "\n",
    "import os\n",
    "for dirname, _, filenames in os.walk('/kaggle/input'):\n",
    "    for filename in filenames:\n",
    "        print(os.path.join(dirname, filename))\n",
    "\n",
    "# You can write up to 20GB to the current directory (/kaggle/working/) that gets preserved as output when you create a version using \"Save & Run All\" \n",
    "# You can also write temporary files to /kaggle/temp/, but they won't be saved outside of the current session"
   ]
  },
  {
   "cell_type": "markdown",
   "id": "80e308b5",
   "metadata": {
    "papermill": {
     "duration": 0.009604,
     "end_time": "2023-08-17T23:45:08.388885",
     "exception": false,
     "start_time": "2023-08-17T23:45:08.379281",
     "status": "completed"
    },
    "tags": []
   },
   "source": [
    "# Inuebytes INTERNSHIP PROJECT-2 (DATA SCIENCE)"
   ]
  },
  {
   "cell_type": "markdown",
   "id": "46860893",
   "metadata": {
    "papermill": {
     "duration": 0.009446,
     "end_time": "2023-08-17T23:45:08.409218",
     "exception": false,
     "start_time": "2023-08-17T23:45:08.399772",
     "status": "completed"
    },
    "tags": []
   },
   "source": [
    "## INDEX"
   ]
  },
  {
   "cell_type": "markdown",
   "id": "42467530",
   "metadata": {
    "papermill": {
     "duration": 0.010029,
     "end_time": "2023-08-17T23:45:08.429891",
     "exception": false,
     "start_time": "2023-08-17T23:45:08.419862",
     "status": "completed"
    },
    "tags": []
   },
   "source": [
    "## 1. Data Preprocessing\n",
    "## 2. Exploratory Data Analysis (EDA)\n",
    "## 3. Model Implementation\n",
    "## 4. Model Evaluation\n",
    "## 5. Cross Validation\n",
    "## Question And Answers"
   ]
  },
  {
   "cell_type": "markdown",
   "id": "4ca7b223",
   "metadata": {
    "papermill": {
     "duration": 0.009775,
     "end_time": "2023-08-17T23:45:08.449881",
     "exception": false,
     "start_time": "2023-08-17T23:45:08.440106",
     "status": "completed"
    },
    "tags": []
   },
   "source": [
    "### 1. Data Processsing"
   ]
  },
  {
   "cell_type": "code",
   "execution_count": 2,
   "id": "e3e52257",
   "metadata": {
    "execution": {
     "iopub.execute_input": "2023-08-17T23:45:08.472261Z",
     "iopub.status.busy": "2023-08-17T23:45:08.471743Z",
     "iopub.status.idle": "2023-08-17T23:45:10.141551Z",
     "shell.execute_reply": "2023-08-17T23:45:10.140343Z"
    },
    "papermill": {
     "duration": 1.683889,
     "end_time": "2023-08-17T23:45:10.143978",
     "exception": false,
     "start_time": "2023-08-17T23:45:08.460089",
     "status": "completed"
    },
    "tags": []
   },
   "outputs": [
    {
     "name": "stderr",
     "output_type": "stream",
     "text": [
      "/opt/conda/lib/python3.10/site-packages/scipy/__init__.py:146: UserWarning: A NumPy version >=1.16.5 and <1.23.0 is required for this version of SciPy (detected version 1.23.5\n",
      "  warnings.warn(f\"A NumPy version >={np_minversion} and <{np_maxversion}\"\n"
     ]
    }
   ],
   "source": [
    "import pandas as pd\n",
    "import numpy as np\n",
    "import matplotlib.pyplot as plt \n",
    "import seaborn as sns\n",
    "from sklearn.preprocessing import LabelEncoder\n",
    "from sklearn.model_selection import train_test_split\n",
    "from sklearn.ensemble import RandomForestRegressor\n",
    "from sklearn.linear_model import Ridge\n",
    "from sklearn.metrics import accuracy_score,precision_score,recall_score,f1_score,confusion_matrix,r2_score, mean_squared_error, mean_absolute_percentage_error"
   ]
  },
  {
   "cell_type": "code",
   "execution_count": 3,
   "id": "b37d8418",
   "metadata": {
    "execution": {
     "iopub.execute_input": "2023-08-17T23:45:10.166216Z",
     "iopub.status.busy": "2023-08-17T23:45:10.165842Z",
     "iopub.status.idle": "2023-08-17T23:45:10.243448Z",
     "shell.execute_reply": "2023-08-17T23:45:10.242411Z"
    },
    "papermill": {
     "duration": 0.090946,
     "end_time": "2023-08-17T23:45:10.245540",
     "exception": false,
     "start_time": "2023-08-17T23:45:10.154594",
     "status": "completed"
    },
    "tags": []
   },
   "outputs": [],
   "source": [
    "pm = pd.read_csv(\"/kaggle/input/pm25-airpolution-dataset/PRSA_data_2010.1.1-2014.12.31.csv\")"
   ]
  },
  {
   "cell_type": "code",
   "execution_count": 4,
   "id": "cece7995",
   "metadata": {
    "execution": {
     "iopub.execute_input": "2023-08-17T23:45:10.266849Z",
     "iopub.status.busy": "2023-08-17T23:45:10.266542Z",
     "iopub.status.idle": "2023-08-17T23:45:10.273241Z",
     "shell.execute_reply": "2023-08-17T23:45:10.272368Z"
    },
    "papermill": {
     "duration": 0.019072,
     "end_time": "2023-08-17T23:45:10.274869",
     "exception": false,
     "start_time": "2023-08-17T23:45:10.255797",
     "status": "completed"
    },
    "tags": []
   },
   "outputs": [
    {
     "data": {
      "text/plain": [
       "(43824, 13)"
      ]
     },
     "execution_count": 4,
     "metadata": {},
     "output_type": "execute_result"
    }
   ],
   "source": [
    "pm.shape"
   ]
  },
  {
   "cell_type": "code",
   "execution_count": 5,
   "id": "4c09a83e",
   "metadata": {
    "execution": {
     "iopub.execute_input": "2023-08-17T23:45:10.296194Z",
     "iopub.status.busy": "2023-08-17T23:45:10.295520Z",
     "iopub.status.idle": "2023-08-17T23:45:10.316435Z",
     "shell.execute_reply": "2023-08-17T23:45:10.315585Z"
    },
    "papermill": {
     "duration": 0.033322,
     "end_time": "2023-08-17T23:45:10.318114",
     "exception": false,
     "start_time": "2023-08-17T23:45:10.284792",
     "status": "completed"
    },
    "tags": []
   },
   "outputs": [
    {
     "data": {
      "text/html": [
       "<div>\n",
       "<style scoped>\n",
       "    .dataframe tbody tr th:only-of-type {\n",
       "        vertical-align: middle;\n",
       "    }\n",
       "\n",
       "    .dataframe tbody tr th {\n",
       "        vertical-align: top;\n",
       "    }\n",
       "\n",
       "    .dataframe thead th {\n",
       "        text-align: right;\n",
       "    }\n",
       "</style>\n",
       "<table border=\"1\" class=\"dataframe\">\n",
       "  <thead>\n",
       "    <tr style=\"text-align: right;\">\n",
       "      <th></th>\n",
       "      <th>No</th>\n",
       "      <th>year</th>\n",
       "      <th>month</th>\n",
       "      <th>day</th>\n",
       "      <th>hour</th>\n",
       "      <th>pm2.5</th>\n",
       "      <th>DEWP</th>\n",
       "      <th>TEMP</th>\n",
       "      <th>PRES</th>\n",
       "      <th>cbwd</th>\n",
       "      <th>Iws</th>\n",
       "      <th>Is</th>\n",
       "      <th>Ir</th>\n",
       "    </tr>\n",
       "  </thead>\n",
       "  <tbody>\n",
       "    <tr>\n",
       "      <th>0</th>\n",
       "      <td>1</td>\n",
       "      <td>2010</td>\n",
       "      <td>1</td>\n",
       "      <td>1</td>\n",
       "      <td>0</td>\n",
       "      <td>NaN</td>\n",
       "      <td>-21</td>\n",
       "      <td>-11.0</td>\n",
       "      <td>1021.0</td>\n",
       "      <td>NW</td>\n",
       "      <td>1.79</td>\n",
       "      <td>0</td>\n",
       "      <td>0</td>\n",
       "    </tr>\n",
       "    <tr>\n",
       "      <th>1</th>\n",
       "      <td>2</td>\n",
       "      <td>2010</td>\n",
       "      <td>1</td>\n",
       "      <td>1</td>\n",
       "      <td>1</td>\n",
       "      <td>NaN</td>\n",
       "      <td>-21</td>\n",
       "      <td>-12.0</td>\n",
       "      <td>1020.0</td>\n",
       "      <td>NW</td>\n",
       "      <td>4.92</td>\n",
       "      <td>0</td>\n",
       "      <td>0</td>\n",
       "    </tr>\n",
       "    <tr>\n",
       "      <th>2</th>\n",
       "      <td>3</td>\n",
       "      <td>2010</td>\n",
       "      <td>1</td>\n",
       "      <td>1</td>\n",
       "      <td>2</td>\n",
       "      <td>NaN</td>\n",
       "      <td>-21</td>\n",
       "      <td>-11.0</td>\n",
       "      <td>1019.0</td>\n",
       "      <td>NW</td>\n",
       "      <td>6.71</td>\n",
       "      <td>0</td>\n",
       "      <td>0</td>\n",
       "    </tr>\n",
       "    <tr>\n",
       "      <th>3</th>\n",
       "      <td>4</td>\n",
       "      <td>2010</td>\n",
       "      <td>1</td>\n",
       "      <td>1</td>\n",
       "      <td>3</td>\n",
       "      <td>NaN</td>\n",
       "      <td>-21</td>\n",
       "      <td>-14.0</td>\n",
       "      <td>1019.0</td>\n",
       "      <td>NW</td>\n",
       "      <td>9.84</td>\n",
       "      <td>0</td>\n",
       "      <td>0</td>\n",
       "    </tr>\n",
       "    <tr>\n",
       "      <th>4</th>\n",
       "      <td>5</td>\n",
       "      <td>2010</td>\n",
       "      <td>1</td>\n",
       "      <td>1</td>\n",
       "      <td>4</td>\n",
       "      <td>NaN</td>\n",
       "      <td>-20</td>\n",
       "      <td>-12.0</td>\n",
       "      <td>1018.0</td>\n",
       "      <td>NW</td>\n",
       "      <td>12.97</td>\n",
       "      <td>0</td>\n",
       "      <td>0</td>\n",
       "    </tr>\n",
       "  </tbody>\n",
       "</table>\n",
       "</div>"
      ],
      "text/plain": [
       "   No  year  month  day  hour  pm2.5  DEWP  TEMP    PRES cbwd    Iws  Is  Ir\n",
       "0   1  2010      1    1     0    NaN   -21 -11.0  1021.0   NW   1.79   0   0\n",
       "1   2  2010      1    1     1    NaN   -21 -12.0  1020.0   NW   4.92   0   0\n",
       "2   3  2010      1    1     2    NaN   -21 -11.0  1019.0   NW   6.71   0   0\n",
       "3   4  2010      1    1     3    NaN   -21 -14.0  1019.0   NW   9.84   0   0\n",
       "4   5  2010      1    1     4    NaN   -20 -12.0  1018.0   NW  12.97   0   0"
      ]
     },
     "execution_count": 5,
     "metadata": {},
     "output_type": "execute_result"
    }
   ],
   "source": [
    "pm.head()"
   ]
  },
  {
   "cell_type": "code",
   "execution_count": 6,
   "id": "5578abb3",
   "metadata": {
    "execution": {
     "iopub.execute_input": "2023-08-17T23:45:10.340616Z",
     "iopub.status.busy": "2023-08-17T23:45:10.340289Z",
     "iopub.status.idle": "2023-08-17T23:45:10.366989Z",
     "shell.execute_reply": "2023-08-17T23:45:10.366262Z"
    },
    "papermill": {
     "duration": 0.040411,
     "end_time": "2023-08-17T23:45:10.369209",
     "exception": false,
     "start_time": "2023-08-17T23:45:10.328798",
     "status": "completed"
    },
    "tags": []
   },
   "outputs": [
    {
     "name": "stdout",
     "output_type": "stream",
     "text": [
      "<class 'pandas.core.frame.DataFrame'>\n",
      "RangeIndex: 43824 entries, 0 to 43823\n",
      "Data columns (total 13 columns):\n",
      " #   Column  Non-Null Count  Dtype  \n",
      "---  ------  --------------  -----  \n",
      " 0   No      43824 non-null  int64  \n",
      " 1   year    43824 non-null  int64  \n",
      " 2   month   43824 non-null  int64  \n",
      " 3   day     43824 non-null  int64  \n",
      " 4   hour    43824 non-null  int64  \n",
      " 5   pm2.5   41757 non-null  float64\n",
      " 6   DEWP    43824 non-null  int64  \n",
      " 7   TEMP    43824 non-null  float64\n",
      " 8   PRES    43824 non-null  float64\n",
      " 9   cbwd    43824 non-null  object \n",
      " 10  Iws     43824 non-null  float64\n",
      " 11  Is      43824 non-null  int64  \n",
      " 12  Ir      43824 non-null  int64  \n",
      "dtypes: float64(4), int64(8), object(1)\n",
      "memory usage: 4.3+ MB\n"
     ]
    }
   ],
   "source": [
    "pm.info()"
   ]
  },
  {
   "cell_type": "code",
   "execution_count": 7,
   "id": "318fb9be",
   "metadata": {
    "execution": {
     "iopub.execute_input": "2023-08-17T23:45:10.393423Z",
     "iopub.status.busy": "2023-08-17T23:45:10.392383Z",
     "iopub.status.idle": "2023-08-17T23:45:10.407320Z",
     "shell.execute_reply": "2023-08-17T23:45:10.406297Z"
    },
    "papermill": {
     "duration": 0.028196,
     "end_time": "2023-08-17T23:45:10.409200",
     "exception": false,
     "start_time": "2023-08-17T23:45:10.381004",
     "status": "completed"
    },
    "tags": []
   },
   "outputs": [
    {
     "data": {
      "text/plain": [
       "<bound method NDFrame.describe of           No  year  month  day  hour  pm2.5  DEWP  TEMP    PRES cbwd     Iws  \\\n",
       "0          1  2010      1    1     0    NaN   -21 -11.0  1021.0   NW    1.79   \n",
       "1          2  2010      1    1     1    NaN   -21 -12.0  1020.0   NW    4.92   \n",
       "2          3  2010      1    1     2    NaN   -21 -11.0  1019.0   NW    6.71   \n",
       "3          4  2010      1    1     3    NaN   -21 -14.0  1019.0   NW    9.84   \n",
       "4          5  2010      1    1     4    NaN   -20 -12.0  1018.0   NW   12.97   \n",
       "...      ...   ...    ...  ...   ...    ...   ...   ...     ...  ...     ...   \n",
       "43819  43820  2014     12   31    19    8.0   -23  -2.0  1034.0   NW  231.97   \n",
       "43820  43821  2014     12   31    20   10.0   -22  -3.0  1034.0   NW  237.78   \n",
       "43821  43822  2014     12   31    21   10.0   -22  -3.0  1034.0   NW  242.70   \n",
       "43822  43823  2014     12   31    22    8.0   -22  -4.0  1034.0   NW  246.72   \n",
       "43823  43824  2014     12   31    23   12.0   -21  -3.0  1034.0   NW  249.85   \n",
       "\n",
       "       Is  Ir  \n",
       "0       0   0  \n",
       "1       0   0  \n",
       "2       0   0  \n",
       "3       0   0  \n",
       "4       0   0  \n",
       "...    ..  ..  \n",
       "43819   0   0  \n",
       "43820   0   0  \n",
       "43821   0   0  \n",
       "43822   0   0  \n",
       "43823   0   0  \n",
       "\n",
       "[43824 rows x 13 columns]>"
      ]
     },
     "execution_count": 7,
     "metadata": {},
     "output_type": "execute_result"
    }
   ],
   "source": [
    "pm.describe"
   ]
  },
  {
   "cell_type": "code",
   "execution_count": 8,
   "id": "6698fcdd",
   "metadata": {
    "execution": {
     "iopub.execute_input": "2023-08-17T23:45:10.432750Z",
     "iopub.status.busy": "2023-08-17T23:45:10.432434Z",
     "iopub.status.idle": "2023-08-17T23:45:10.446071Z",
     "shell.execute_reply": "2023-08-17T23:45:10.445109Z"
    },
    "papermill": {
     "duration": 0.028021,
     "end_time": "2023-08-17T23:45:10.447911",
     "exception": false,
     "start_time": "2023-08-17T23:45:10.419890",
     "status": "completed"
    },
    "tags": []
   },
   "outputs": [
    {
     "data": {
      "text/plain": [
       "No          0\n",
       "year        0\n",
       "month       0\n",
       "day         0\n",
       "hour        0\n",
       "pm2.5    2067\n",
       "DEWP        0\n",
       "TEMP        0\n",
       "PRES        0\n",
       "cbwd        0\n",
       "Iws         0\n",
       "Is          0\n",
       "Ir          0\n",
       "dtype: int64"
      ]
     },
     "execution_count": 8,
     "metadata": {},
     "output_type": "execute_result"
    }
   ],
   "source": [
    "pm.isnull().sum()"
   ]
  },
  {
   "cell_type": "code",
   "execution_count": 9,
   "id": "0abb620a",
   "metadata": {
    "execution": {
     "iopub.execute_input": "2023-08-17T23:45:10.471285Z",
     "iopub.status.busy": "2023-08-17T23:45:10.470955Z",
     "iopub.status.idle": "2023-08-17T23:45:10.494836Z",
     "shell.execute_reply": "2023-08-17T23:45:10.493936Z"
    },
    "papermill": {
     "duration": 0.037697,
     "end_time": "2023-08-17T23:45:10.496641",
     "exception": false,
     "start_time": "2023-08-17T23:45:10.458944",
     "status": "completed"
    },
    "tags": []
   },
   "outputs": [
    {
     "data": {
      "text/plain": [
       "year     0\n",
       "month    0\n",
       "day      0\n",
       "hour     0\n",
       "pm2.5    0\n",
       "DEWP     0\n",
       "TEMP     0\n",
       "PRES     0\n",
       "cbwd     0\n",
       "Iws      0\n",
       "Is       0\n",
       "Ir       0\n",
       "dtype: int64"
      ]
     },
     "execution_count": 9,
     "metadata": {},
     "output_type": "execute_result"
    }
   ],
   "source": [
    "# Remove missing value\n",
    "pm_2 = pm.drop(['No'], axis=1)\n",
    "pm_clean= pm_2.dropna()\n",
    "pm_clean.isna().sum()"
   ]
  },
  {
   "cell_type": "code",
   "execution_count": 10,
   "id": "5fc62356",
   "metadata": {
    "execution": {
     "iopub.execute_input": "2023-08-17T23:45:10.519639Z",
     "iopub.status.busy": "2023-08-17T23:45:10.519328Z",
     "iopub.status.idle": "2023-08-17T23:45:10.525285Z",
     "shell.execute_reply": "2023-08-17T23:45:10.524285Z"
    },
    "papermill": {
     "duration": 0.019436,
     "end_time": "2023-08-17T23:45:10.526911",
     "exception": false,
     "start_time": "2023-08-17T23:45:10.507475",
     "status": "completed"
    },
    "tags": []
   },
   "outputs": [
    {
     "data": {
      "text/plain": [
       "(41757, 12)"
      ]
     },
     "execution_count": 10,
     "metadata": {},
     "output_type": "execute_result"
    }
   ],
   "source": [
    "pm_clean.shape"
   ]
  },
  {
   "cell_type": "code",
   "execution_count": 11,
   "id": "6dae63fa",
   "metadata": {
    "execution": {
     "iopub.execute_input": "2023-08-17T23:45:10.549885Z",
     "iopub.status.busy": "2023-08-17T23:45:10.549583Z",
     "iopub.status.idle": "2023-08-17T23:45:10.597449Z",
     "shell.execute_reply": "2023-08-17T23:45:10.596704Z"
    },
    "papermill": {
     "duration": 0.06123,
     "end_time": "2023-08-17T23:45:10.599108",
     "exception": false,
     "start_time": "2023-08-17T23:45:10.537878",
     "status": "completed"
    },
    "tags": []
   },
   "outputs": [
    {
     "data": {
      "text/html": [
       "<div>\n",
       "<style scoped>\n",
       "    .dataframe tbody tr th:only-of-type {\n",
       "        vertical-align: middle;\n",
       "    }\n",
       "\n",
       "    .dataframe tbody tr th {\n",
       "        vertical-align: top;\n",
       "    }\n",
       "\n",
       "    .dataframe thead th {\n",
       "        text-align: right;\n",
       "    }\n",
       "</style>\n",
       "<table border=\"1\" class=\"dataframe\">\n",
       "  <thead>\n",
       "    <tr style=\"text-align: right;\">\n",
       "      <th></th>\n",
       "      <th>year</th>\n",
       "      <th>month</th>\n",
       "      <th>day</th>\n",
       "      <th>hour</th>\n",
       "      <th>pm2.5</th>\n",
       "      <th>DEWP</th>\n",
       "      <th>TEMP</th>\n",
       "      <th>PRES</th>\n",
       "      <th>Iws</th>\n",
       "      <th>Is</th>\n",
       "      <th>Ir</th>\n",
       "    </tr>\n",
       "  </thead>\n",
       "  <tbody>\n",
       "    <tr>\n",
       "      <th>count</th>\n",
       "      <td>41757.000000</td>\n",
       "      <td>41757.000000</td>\n",
       "      <td>41757.000000</td>\n",
       "      <td>41757.000000</td>\n",
       "      <td>41757.000000</td>\n",
       "      <td>41757.000000</td>\n",
       "      <td>41757.000000</td>\n",
       "      <td>41757.000000</td>\n",
       "      <td>41757.000000</td>\n",
       "      <td>41757.000000</td>\n",
       "      <td>41757.000000</td>\n",
       "    </tr>\n",
       "    <tr>\n",
       "      <th>mean</th>\n",
       "      <td>2012.042771</td>\n",
       "      <td>6.513758</td>\n",
       "      <td>15.685514</td>\n",
       "      <td>11.502311</td>\n",
       "      <td>98.613215</td>\n",
       "      <td>1.750174</td>\n",
       "      <td>12.401561</td>\n",
       "      <td>1016.442896</td>\n",
       "      <td>23.866747</td>\n",
       "      <td>0.055344</td>\n",
       "      <td>0.194866</td>\n",
       "    </tr>\n",
       "    <tr>\n",
       "      <th>std</th>\n",
       "      <td>1.415311</td>\n",
       "      <td>3.454199</td>\n",
       "      <td>8.785539</td>\n",
       "      <td>6.924848</td>\n",
       "      <td>92.050387</td>\n",
       "      <td>14.433658</td>\n",
       "      <td>12.175215</td>\n",
       "      <td>10.300733</td>\n",
       "      <td>49.617495</td>\n",
       "      <td>0.778875</td>\n",
       "      <td>1.418165</td>\n",
       "    </tr>\n",
       "    <tr>\n",
       "      <th>min</th>\n",
       "      <td>2010.000000</td>\n",
       "      <td>1.000000</td>\n",
       "      <td>1.000000</td>\n",
       "      <td>0.000000</td>\n",
       "      <td>0.000000</td>\n",
       "      <td>-40.000000</td>\n",
       "      <td>-19.000000</td>\n",
       "      <td>991.000000</td>\n",
       "      <td>0.450000</td>\n",
       "      <td>0.000000</td>\n",
       "      <td>0.000000</td>\n",
       "    </tr>\n",
       "    <tr>\n",
       "      <th>25%</th>\n",
       "      <td>2011.000000</td>\n",
       "      <td>4.000000</td>\n",
       "      <td>8.000000</td>\n",
       "      <td>5.000000</td>\n",
       "      <td>29.000000</td>\n",
       "      <td>-10.000000</td>\n",
       "      <td>2.000000</td>\n",
       "      <td>1008.000000</td>\n",
       "      <td>1.790000</td>\n",
       "      <td>0.000000</td>\n",
       "      <td>0.000000</td>\n",
       "    </tr>\n",
       "    <tr>\n",
       "      <th>50%</th>\n",
       "      <td>2012.000000</td>\n",
       "      <td>7.000000</td>\n",
       "      <td>16.000000</td>\n",
       "      <td>12.000000</td>\n",
       "      <td>72.000000</td>\n",
       "      <td>2.000000</td>\n",
       "      <td>14.000000</td>\n",
       "      <td>1016.000000</td>\n",
       "      <td>5.370000</td>\n",
       "      <td>0.000000</td>\n",
       "      <td>0.000000</td>\n",
       "    </tr>\n",
       "    <tr>\n",
       "      <th>75%</th>\n",
       "      <td>2013.000000</td>\n",
       "      <td>10.000000</td>\n",
       "      <td>23.000000</td>\n",
       "      <td>18.000000</td>\n",
       "      <td>137.000000</td>\n",
       "      <td>15.000000</td>\n",
       "      <td>23.000000</td>\n",
       "      <td>1025.000000</td>\n",
       "      <td>21.910000</td>\n",
       "      <td>0.000000</td>\n",
       "      <td>0.000000</td>\n",
       "    </tr>\n",
       "    <tr>\n",
       "      <th>max</th>\n",
       "      <td>2014.000000</td>\n",
       "      <td>12.000000</td>\n",
       "      <td>31.000000</td>\n",
       "      <td>23.000000</td>\n",
       "      <td>994.000000</td>\n",
       "      <td>28.000000</td>\n",
       "      <td>42.000000</td>\n",
       "      <td>1046.000000</td>\n",
       "      <td>565.490000</td>\n",
       "      <td>27.000000</td>\n",
       "      <td>36.000000</td>\n",
       "    </tr>\n",
       "  </tbody>\n",
       "</table>\n",
       "</div>"
      ],
      "text/plain": [
       "               year         month           day          hour         pm2.5  \\\n",
       "count  41757.000000  41757.000000  41757.000000  41757.000000  41757.000000   \n",
       "mean    2012.042771      6.513758     15.685514     11.502311     98.613215   \n",
       "std        1.415311      3.454199      8.785539      6.924848     92.050387   \n",
       "min     2010.000000      1.000000      1.000000      0.000000      0.000000   \n",
       "25%     2011.000000      4.000000      8.000000      5.000000     29.000000   \n",
       "50%     2012.000000      7.000000     16.000000     12.000000     72.000000   \n",
       "75%     2013.000000     10.000000     23.000000     18.000000    137.000000   \n",
       "max     2014.000000     12.000000     31.000000     23.000000    994.000000   \n",
       "\n",
       "               DEWP          TEMP          PRES           Iws            Is  \\\n",
       "count  41757.000000  41757.000000  41757.000000  41757.000000  41757.000000   \n",
       "mean       1.750174     12.401561   1016.442896     23.866747      0.055344   \n",
       "std       14.433658     12.175215     10.300733     49.617495      0.778875   \n",
       "min      -40.000000    -19.000000    991.000000      0.450000      0.000000   \n",
       "25%      -10.000000      2.000000   1008.000000      1.790000      0.000000   \n",
       "50%        2.000000     14.000000   1016.000000      5.370000      0.000000   \n",
       "75%       15.000000     23.000000   1025.000000     21.910000      0.000000   \n",
       "max       28.000000     42.000000   1046.000000    565.490000     27.000000   \n",
       "\n",
       "                 Ir  \n",
       "count  41757.000000  \n",
       "mean       0.194866  \n",
       "std        1.418165  \n",
       "min        0.000000  \n",
       "25%        0.000000  \n",
       "50%        0.000000  \n",
       "75%        0.000000  \n",
       "max       36.000000  "
      ]
     },
     "execution_count": 11,
     "metadata": {},
     "output_type": "execute_result"
    }
   ],
   "source": [
    "pm_clean.describe()"
   ]
  },
  {
   "cell_type": "code",
   "execution_count": 12,
   "id": "2effb968",
   "metadata": {
    "execution": {
     "iopub.execute_input": "2023-08-17T23:45:10.622384Z",
     "iopub.status.busy": "2023-08-17T23:45:10.622051Z",
     "iopub.status.idle": "2023-08-17T23:45:10.627906Z",
     "shell.execute_reply": "2023-08-17T23:45:10.627120Z"
    },
    "papermill": {
     "duration": 0.019318,
     "end_time": "2023-08-17T23:45:10.629437",
     "exception": false,
     "start_time": "2023-08-17T23:45:10.610119",
     "status": "completed"
    },
    "tags": []
   },
   "outputs": [
    {
     "data": {
      "text/plain": [
       "Index(['year', 'month', 'day', 'hour', 'pm2.5', 'DEWP', 'TEMP', 'PRES', 'cbwd',\n",
       "       'Iws', 'Is', 'Ir'],\n",
       "      dtype='object')"
      ]
     },
     "execution_count": 12,
     "metadata": {},
     "output_type": "execute_result"
    }
   ],
   "source": [
    "pm_clean.columns"
   ]
  },
  {
   "cell_type": "code",
   "execution_count": 13,
   "id": "ae000ed6",
   "metadata": {
    "execution": {
     "iopub.execute_input": "2023-08-17T23:45:10.651912Z",
     "iopub.status.busy": "2023-08-17T23:45:10.651652Z",
     "iopub.status.idle": "2023-08-17T23:45:10.659528Z",
     "shell.execute_reply": "2023-08-17T23:45:10.658225Z"
    },
    "papermill": {
     "duration": 0.021127,
     "end_time": "2023-08-17T23:45:10.661363",
     "exception": false,
     "start_time": "2023-08-17T23:45:10.640236",
     "status": "completed"
    },
    "tags": []
   },
   "outputs": [
    {
     "data": {
      "text/plain": [
       "year       int64\n",
       "month      int64\n",
       "day        int64\n",
       "hour       int64\n",
       "pm2.5    float64\n",
       "DEWP       int64\n",
       "TEMP     float64\n",
       "PRES     float64\n",
       "cbwd      object\n",
       "Iws      float64\n",
       "Is         int64\n",
       "Ir         int64\n",
       "dtype: object"
      ]
     },
     "execution_count": 13,
     "metadata": {},
     "output_type": "execute_result"
    }
   ],
   "source": [
    "pm_clean.dtypes"
   ]
  },
  {
   "cell_type": "code",
   "execution_count": 14,
   "id": "96fce7e9",
   "metadata": {
    "execution": {
     "iopub.execute_input": "2023-08-17T23:45:10.684471Z",
     "iopub.status.busy": "2023-08-17T23:45:10.684165Z",
     "iopub.status.idle": "2023-08-17T23:45:10.693410Z",
     "shell.execute_reply": "2023-08-17T23:45:10.692481Z"
    },
    "papermill": {
     "duration": 0.022961,
     "end_time": "2023-08-17T23:45:10.695268",
     "exception": false,
     "start_time": "2023-08-17T23:45:10.672307",
     "status": "completed"
    },
    "tags": []
   },
   "outputs": [
    {
     "data": {
      "text/plain": [
       "SE    14573\n",
       "NW    13484\n",
       "cv     8944\n",
       "NE     4756\n",
       "Name: cbwd, dtype: int64"
      ]
     },
     "execution_count": 14,
     "metadata": {},
     "output_type": "execute_result"
    }
   ],
   "source": [
    "pm_clean['cbwd'].value_counts()"
   ]
  },
  {
   "cell_type": "code",
   "execution_count": 15,
   "id": "f51da86d",
   "metadata": {
    "execution": {
     "iopub.execute_input": "2023-08-17T23:45:10.718400Z",
     "iopub.status.busy": "2023-08-17T23:45:10.718130Z",
     "iopub.status.idle": "2023-08-17T23:45:10.739392Z",
     "shell.execute_reply": "2023-08-17T23:45:10.738088Z"
    },
    "papermill": {
     "duration": 0.034678,
     "end_time": "2023-08-17T23:45:10.741072",
     "exception": false,
     "start_time": "2023-08-17T23:45:10.706394",
     "status": "completed"
    },
    "tags": []
   },
   "outputs": [
    {
     "name": "stderr",
     "output_type": "stream",
     "text": [
      "/tmp/ipykernel_20/1587231526.py:1: SettingWithCopyWarning: \n",
      "A value is trying to be set on a copy of a slice from a DataFrame.\n",
      "Try using .loc[row_indexer,col_indexer] = value instead\n",
      "\n",
      "See the caveats in the documentation: https://pandas.pydata.org/pandas-docs/stable/user_guide/indexing.html#returning-a-view-versus-a-copy\n",
      "  pm_clean.replace({'cbwd':{'SE':0, 'NW':1, 'cv':2, 'NE':3}}, inplace = True)\n"
     ]
    }
   ],
   "source": [
    "pm_clean.replace({'cbwd':{'SE':0, 'NW':1, 'cv':2, 'NE':3}}, inplace = True)"
   ]
  },
  {
   "cell_type": "code",
   "execution_count": 16,
   "id": "ffd2f85d",
   "metadata": {
    "execution": {
     "iopub.execute_input": "2023-08-17T23:45:10.764484Z",
     "iopub.status.busy": "2023-08-17T23:45:10.764172Z",
     "iopub.status.idle": "2023-08-17T23:45:10.771893Z",
     "shell.execute_reply": "2023-08-17T23:45:10.770779Z"
    },
    "papermill": {
     "duration": 0.021474,
     "end_time": "2023-08-17T23:45:10.773637",
     "exception": false,
     "start_time": "2023-08-17T23:45:10.752163",
     "status": "completed"
    },
    "tags": []
   },
   "outputs": [
    {
     "data": {
      "text/plain": [
       "0    14573\n",
       "1    13484\n",
       "2     8944\n",
       "3     4756\n",
       "Name: cbwd, dtype: int64"
      ]
     },
     "execution_count": 16,
     "metadata": {},
     "output_type": "execute_result"
    }
   ],
   "source": [
    "pm_clean['cbwd'].value_counts()"
   ]
  },
  {
   "cell_type": "code",
   "execution_count": 17,
   "id": "46da3ca1",
   "metadata": {
    "execution": {
     "iopub.execute_input": "2023-08-17T23:45:10.797211Z",
     "iopub.status.busy": "2023-08-17T23:45:10.796899Z",
     "iopub.status.idle": "2023-08-17T23:45:10.802415Z",
     "shell.execute_reply": "2023-08-17T23:45:10.801578Z"
    },
    "papermill": {
     "duration": 0.019276,
     "end_time": "2023-08-17T23:45:10.804070",
     "exception": false,
     "start_time": "2023-08-17T23:45:10.784794",
     "status": "completed"
    },
    "tags": []
   },
   "outputs": [],
   "source": [
    "x = pm_clean.loc[:, ~pm_clean.columns.isin(['pm2.5'])]"
   ]
  },
  {
   "cell_type": "code",
   "execution_count": 18,
   "id": "fe28518e",
   "metadata": {
    "execution": {
     "iopub.execute_input": "2023-08-17T23:45:10.828779Z",
     "iopub.status.busy": "2023-08-17T23:45:10.827889Z",
     "iopub.status.idle": "2023-08-17T23:45:10.831900Z",
     "shell.execute_reply": "2023-08-17T23:45:10.831275Z"
    },
    "papermill": {
     "duration": 0.017863,
     "end_time": "2023-08-17T23:45:10.833731",
     "exception": false,
     "start_time": "2023-08-17T23:45:10.815868",
     "status": "completed"
    },
    "tags": []
   },
   "outputs": [],
   "source": [
    "y = pm_clean['pm2.5']"
   ]
  },
  {
   "cell_type": "code",
   "execution_count": 19,
   "id": "6fe231d2",
   "metadata": {
    "execution": {
     "iopub.execute_input": "2023-08-17T23:45:10.858717Z",
     "iopub.status.busy": "2023-08-17T23:45:10.858111Z",
     "iopub.status.idle": "2023-08-17T23:45:10.869603Z",
     "shell.execute_reply": "2023-08-17T23:45:10.868958Z"
    },
    "papermill": {
     "duration": 0.026403,
     "end_time": "2023-08-17T23:45:10.872024",
     "exception": false,
     "start_time": "2023-08-17T23:45:10.845621",
     "status": "completed"
    },
    "tags": []
   },
   "outputs": [],
   "source": [
    "from sklearn.model_selection import train_test_split\n",
    "x_train,x_test,y_train,y_test=train_test_split(x,y,test_size=0.2,random_state=42)"
   ]
  },
  {
   "cell_type": "code",
   "execution_count": 20,
   "id": "b8a21792",
   "metadata": {
    "execution": {
     "iopub.execute_input": "2023-08-17T23:45:10.898755Z",
     "iopub.status.busy": "2023-08-17T23:45:10.898146Z",
     "iopub.status.idle": "2023-08-17T23:45:10.902205Z",
     "shell.execute_reply": "2023-08-17T23:45:10.901489Z"
    },
    "papermill": {
     "duration": 0.018759,
     "end_time": "2023-08-17T23:45:10.903840",
     "exception": false,
     "start_time": "2023-08-17T23:45:10.885081",
     "status": "completed"
    },
    "tags": []
   },
   "outputs": [],
   "source": [
    "from sklearn.preprocessing import StandardScaler\n",
    "ss=StandardScaler()"
   ]
  },
  {
   "cell_type": "code",
   "execution_count": 21,
   "id": "c0695e85",
   "metadata": {
    "execution": {
     "iopub.execute_input": "2023-08-17T23:45:10.928080Z",
     "iopub.status.busy": "2023-08-17T23:45:10.927525Z",
     "iopub.status.idle": "2023-08-17T23:45:10.942102Z",
     "shell.execute_reply": "2023-08-17T23:45:10.941085Z"
    },
    "papermill": {
     "duration": 0.02898,
     "end_time": "2023-08-17T23:45:10.944322",
     "exception": false,
     "start_time": "2023-08-17T23:45:10.915342",
     "status": "completed"
    },
    "tags": []
   },
   "outputs": [],
   "source": [
    "x_train_new=ss.fit_transform(x_train)\n",
    "x_test_new=ss.transform(x_test)"
   ]
  },
  {
   "cell_type": "markdown",
   "id": "22772008",
   "metadata": {
    "papermill": {
     "duration": 0.010873,
     "end_time": "2023-08-17T23:45:10.967019",
     "exception": false,
     "start_time": "2023-08-17T23:45:10.956146",
     "status": "completed"
    },
    "tags": []
   },
   "source": [
    "### 2. Exploratory Data Analysis (EDA)"
   ]
  },
  {
   "cell_type": "code",
   "execution_count": 22,
   "id": "b8e29586",
   "metadata": {
    "execution": {
     "iopub.execute_input": "2023-08-17T23:45:10.990957Z",
     "iopub.status.busy": "2023-08-17T23:45:10.990367Z",
     "iopub.status.idle": "2023-08-17T23:45:11.039396Z",
     "shell.execute_reply": "2023-08-17T23:45:11.038529Z"
    },
    "papermill": {
     "duration": 0.063057,
     "end_time": "2023-08-17T23:45:11.041258",
     "exception": false,
     "start_time": "2023-08-17T23:45:10.978201",
     "status": "completed"
    },
    "tags": []
   },
   "outputs": [
    {
     "data": {
      "text/html": [
       "<div>\n",
       "<style scoped>\n",
       "    .dataframe tbody tr th:only-of-type {\n",
       "        vertical-align: middle;\n",
       "    }\n",
       "\n",
       "    .dataframe tbody tr th {\n",
       "        vertical-align: top;\n",
       "    }\n",
       "\n",
       "    .dataframe thead th {\n",
       "        text-align: right;\n",
       "    }\n",
       "</style>\n",
       "<table border=\"1\" class=\"dataframe\">\n",
       "  <thead>\n",
       "    <tr style=\"text-align: right;\">\n",
       "      <th></th>\n",
       "      <th>year</th>\n",
       "      <th>month</th>\n",
       "      <th>day</th>\n",
       "      <th>hour</th>\n",
       "      <th>pm2.5</th>\n",
       "      <th>DEWP</th>\n",
       "      <th>TEMP</th>\n",
       "      <th>PRES</th>\n",
       "      <th>cbwd</th>\n",
       "      <th>Iws</th>\n",
       "      <th>Is</th>\n",
       "      <th>Ir</th>\n",
       "    </tr>\n",
       "  </thead>\n",
       "  <tbody>\n",
       "    <tr>\n",
       "      <th>count</th>\n",
       "      <td>41757.000000</td>\n",
       "      <td>41757.000000</td>\n",
       "      <td>41757.000000</td>\n",
       "      <td>41757.000000</td>\n",
       "      <td>41757.000000</td>\n",
       "      <td>41757.000000</td>\n",
       "      <td>41757.000000</td>\n",
       "      <td>41757.000000</td>\n",
       "      <td>41757.000000</td>\n",
       "      <td>41757.000000</td>\n",
       "      <td>41757.000000</td>\n",
       "      <td>41757.000000</td>\n",
       "    </tr>\n",
       "    <tr>\n",
       "      <th>mean</th>\n",
       "      <td>2012.042771</td>\n",
       "      <td>6.513758</td>\n",
       "      <td>15.685514</td>\n",
       "      <td>11.502311</td>\n",
       "      <td>98.613215</td>\n",
       "      <td>1.750174</td>\n",
       "      <td>12.401561</td>\n",
       "      <td>1016.442896</td>\n",
       "      <td>1.092990</td>\n",
       "      <td>23.866747</td>\n",
       "      <td>0.055344</td>\n",
       "      <td>0.194866</td>\n",
       "    </tr>\n",
       "    <tr>\n",
       "      <th>std</th>\n",
       "      <td>1.415311</td>\n",
       "      <td>3.454199</td>\n",
       "      <td>8.785539</td>\n",
       "      <td>6.924848</td>\n",
       "      <td>92.050387</td>\n",
       "      <td>14.433658</td>\n",
       "      <td>12.175215</td>\n",
       "      <td>10.300733</td>\n",
       "      <td>1.005063</td>\n",
       "      <td>49.617495</td>\n",
       "      <td>0.778875</td>\n",
       "      <td>1.418165</td>\n",
       "    </tr>\n",
       "    <tr>\n",
       "      <th>min</th>\n",
       "      <td>2010.000000</td>\n",
       "      <td>1.000000</td>\n",
       "      <td>1.000000</td>\n",
       "      <td>0.000000</td>\n",
       "      <td>0.000000</td>\n",
       "      <td>-40.000000</td>\n",
       "      <td>-19.000000</td>\n",
       "      <td>991.000000</td>\n",
       "      <td>0.000000</td>\n",
       "      <td>0.450000</td>\n",
       "      <td>0.000000</td>\n",
       "      <td>0.000000</td>\n",
       "    </tr>\n",
       "    <tr>\n",
       "      <th>25%</th>\n",
       "      <td>2011.000000</td>\n",
       "      <td>4.000000</td>\n",
       "      <td>8.000000</td>\n",
       "      <td>5.000000</td>\n",
       "      <td>29.000000</td>\n",
       "      <td>-10.000000</td>\n",
       "      <td>2.000000</td>\n",
       "      <td>1008.000000</td>\n",
       "      <td>0.000000</td>\n",
       "      <td>1.790000</td>\n",
       "      <td>0.000000</td>\n",
       "      <td>0.000000</td>\n",
       "    </tr>\n",
       "    <tr>\n",
       "      <th>50%</th>\n",
       "      <td>2012.000000</td>\n",
       "      <td>7.000000</td>\n",
       "      <td>16.000000</td>\n",
       "      <td>12.000000</td>\n",
       "      <td>72.000000</td>\n",
       "      <td>2.000000</td>\n",
       "      <td>14.000000</td>\n",
       "      <td>1016.000000</td>\n",
       "      <td>1.000000</td>\n",
       "      <td>5.370000</td>\n",
       "      <td>0.000000</td>\n",
       "      <td>0.000000</td>\n",
       "    </tr>\n",
       "    <tr>\n",
       "      <th>75%</th>\n",
       "      <td>2013.000000</td>\n",
       "      <td>10.000000</td>\n",
       "      <td>23.000000</td>\n",
       "      <td>18.000000</td>\n",
       "      <td>137.000000</td>\n",
       "      <td>15.000000</td>\n",
       "      <td>23.000000</td>\n",
       "      <td>1025.000000</td>\n",
       "      <td>2.000000</td>\n",
       "      <td>21.910000</td>\n",
       "      <td>0.000000</td>\n",
       "      <td>0.000000</td>\n",
       "    </tr>\n",
       "    <tr>\n",
       "      <th>max</th>\n",
       "      <td>2014.000000</td>\n",
       "      <td>12.000000</td>\n",
       "      <td>31.000000</td>\n",
       "      <td>23.000000</td>\n",
       "      <td>994.000000</td>\n",
       "      <td>28.000000</td>\n",
       "      <td>42.000000</td>\n",
       "      <td>1046.000000</td>\n",
       "      <td>3.000000</td>\n",
       "      <td>565.490000</td>\n",
       "      <td>27.000000</td>\n",
       "      <td>36.000000</td>\n",
       "    </tr>\n",
       "  </tbody>\n",
       "</table>\n",
       "</div>"
      ],
      "text/plain": [
       "               year         month           day          hour         pm2.5  \\\n",
       "count  41757.000000  41757.000000  41757.000000  41757.000000  41757.000000   \n",
       "mean    2012.042771      6.513758     15.685514     11.502311     98.613215   \n",
       "std        1.415311      3.454199      8.785539      6.924848     92.050387   \n",
       "min     2010.000000      1.000000      1.000000      0.000000      0.000000   \n",
       "25%     2011.000000      4.000000      8.000000      5.000000     29.000000   \n",
       "50%     2012.000000      7.000000     16.000000     12.000000     72.000000   \n",
       "75%     2013.000000     10.000000     23.000000     18.000000    137.000000   \n",
       "max     2014.000000     12.000000     31.000000     23.000000    994.000000   \n",
       "\n",
       "               DEWP          TEMP          PRES          cbwd           Iws  \\\n",
       "count  41757.000000  41757.000000  41757.000000  41757.000000  41757.000000   \n",
       "mean       1.750174     12.401561   1016.442896      1.092990     23.866747   \n",
       "std       14.433658     12.175215     10.300733      1.005063     49.617495   \n",
       "min      -40.000000    -19.000000    991.000000      0.000000      0.450000   \n",
       "25%      -10.000000      2.000000   1008.000000      0.000000      1.790000   \n",
       "50%        2.000000     14.000000   1016.000000      1.000000      5.370000   \n",
       "75%       15.000000     23.000000   1025.000000      2.000000     21.910000   \n",
       "max       28.000000     42.000000   1046.000000      3.000000    565.490000   \n",
       "\n",
       "                 Is            Ir  \n",
       "count  41757.000000  41757.000000  \n",
       "mean       0.055344      0.194866  \n",
       "std        0.778875      1.418165  \n",
       "min        0.000000      0.000000  \n",
       "25%        0.000000      0.000000  \n",
       "50%        0.000000      0.000000  \n",
       "75%        0.000000      0.000000  \n",
       "max       27.000000     36.000000  "
      ]
     },
     "execution_count": 22,
     "metadata": {},
     "output_type": "execute_result"
    }
   ],
   "source": [
    "pm_clean.describe()"
   ]
  },
  {
   "cell_type": "code",
   "execution_count": 23,
   "id": "5707d169",
   "metadata": {
    "execution": {
     "iopub.execute_input": "2023-08-17T23:45:11.067313Z",
     "iopub.status.busy": "2023-08-17T23:45:11.066538Z",
     "iopub.status.idle": "2023-08-17T23:45:11.270438Z",
     "shell.execute_reply": "2023-08-17T23:45:11.269265Z"
    },
    "papermill": {
     "duration": 0.218849,
     "end_time": "2023-08-17T23:45:11.272318",
     "exception": false,
     "start_time": "2023-08-17T23:45:11.053469",
     "status": "completed"
    },
    "tags": []
   },
   "outputs": [
    {
     "data": {
      "text/plain": [
       "<Axes: >"
      ]
     },
     "execution_count": 23,
     "metadata": {},
     "output_type": "execute_result"
    },
    {
     "data": {
      "image/png": "[encoded data removed]",
      "text/plain": [
       "<Figure size 640x480 with 1 Axes>"
      ]
     },
     "metadata": {},
     "output_type": "display_data"
    }
   ],
   "source": [
    "pm_clean['cbwd'].value_counts().plot.bar()"
   ]
  },
  {
   "cell_type": "code",
   "execution_count": 24,
   "id": "8ee6de9f",
   "metadata": {
    "execution": {
     "iopub.execute_input": "2023-08-17T23:45:11.297543Z",
     "iopub.status.busy": "2023-08-17T23:45:11.297265Z",
     "iopub.status.idle": "2023-08-17T23:45:11.732252Z",
     "shell.execute_reply": "2023-08-17T23:45:11.731130Z"
    },
    "papermill": {
     "duration": 0.449671,
     "end_time": "2023-08-17T23:45:11.734130",
     "exception": false,
     "start_time": "2023-08-17T23:45:11.284459",
     "status": "completed"
    },
    "tags": []
   },
   "outputs": [
    {
     "data": {
      "text/plain": [
       "<Axes: xlabel='DEWP', ylabel='Count'>"
      ]
     },
     "execution_count": 24,
     "metadata": {},
     "output_type": "execute_result"
    },
    {
     "data": {
      "image/png": "[encoded data removed]",
      "text/plain": [
       "<Figure size 640x480 with 1 Axes>"
      ]
     },
     "metadata": {},
     "output_type": "display_data"
    }
   ],
   "source": [
    "sns.histplot(pm_clean['DEWP'],kde='true')"
   ]
  },
  {
   "cell_type": "code",
   "execution_count": 25,
   "id": "b87cc86b",
   "metadata": {
    "execution": {
     "iopub.execute_input": "2023-08-17T23:45:11.761043Z",
     "iopub.status.busy": "2023-08-17T23:45:11.760690Z",
     "iopub.status.idle": "2023-08-17T23:45:11.979028Z",
     "shell.execute_reply": "2023-08-17T23:45:11.978361Z"
    },
    "papermill": {
     "duration": 0.233834,
     "end_time": "2023-08-17T23:45:11.980995",
     "exception": false,
     "start_time": "2023-08-17T23:45:11.747161",
     "status": "completed"
    },
    "tags": []
   },
   "outputs": [
    {
     "data": {
      "text/plain": [
       "<Axes: ylabel='Frequency'>"
      ]
     },
     "execution_count": 25,
     "metadata": {},
     "output_type": "execute_result"
    },
    {
     "data": {
      "image/png": "[encoded data removed]",
      "text/plain": [
       "<Figure size 640x480 with 1 Axes>"
      ]
     },
     "metadata": {},
     "output_type": "display_data"
    }
   ],
   "source": [
    "pm_clean['TEMP'].value_counts().plot.hist()"
   ]
  },
  {
   "cell_type": "code",
   "execution_count": 26,
   "id": "cf533b1e",
   "metadata": {
    "execution": {
     "iopub.execute_input": "2023-08-17T23:45:12.009711Z",
     "iopub.status.busy": "2023-08-17T23:45:12.007559Z",
     "iopub.status.idle": "2023-08-17T23:45:12.438119Z",
     "shell.execute_reply": "2023-08-17T23:45:12.437148Z"
    },
    "papermill": {
     "duration": 0.446383,
     "end_time": "2023-08-17T23:45:12.440187",
     "exception": false,
     "start_time": "2023-08-17T23:45:11.993804",
     "status": "completed"
    },
    "tags": []
   },
   "outputs": [
    {
     "data": {
      "text/plain": [
       "<Axes: xlabel='TEMP', ylabel='Count'>"
      ]
     },
     "execution_count": 26,
     "metadata": {},
     "output_type": "execute_result"
    },
    {
     "data": {
      "image/png": "[encoded data removed]",
      "text/plain": [
       "<Figure size 640x480 with 1 Axes>"
      ]
     },
     "metadata": {},
     "output_type": "display_data"
    }
   ],
   "source": [
    "sns.histplot(pm_clean['TEMP'],kde='true')"
   ]
  },
  {
   "cell_type": "code",
   "execution_count": 27,
   "id": "d6d420a6",
   "metadata": {
    "execution": {
     "iopub.execute_input": "2023-08-17T23:45:12.468600Z",
     "iopub.status.busy": "2023-08-17T23:45:12.467781Z",
     "iopub.status.idle": "2023-08-17T23:45:12.829505Z",
     "shell.execute_reply": "2023-08-17T23:45:12.828565Z"
    },
    "papermill": {
     "duration": 0.377613,
     "end_time": "2023-08-17T23:45:12.831287",
     "exception": false,
     "start_time": "2023-08-17T23:45:12.453674",
     "status": "completed"
    },
    "tags": []
   },
   "outputs": [
    {
     "data": {
      "text/plain": [
       "<Axes: xlabel='DEWP', ylabel='Density'>"
      ]
     },
     "execution_count": 27,
     "metadata": {},
     "output_type": "execute_result"
    },
    {
     "data": {
      "image/png": "[encoded data removed]",
      "text/plain": [
       "<Figure size 640x480 with 1 Axes>"
      ]
     },
     "metadata": {},
     "output_type": "display_data"
    }
   ],
   "source": [
    "sns.kdeplot(pm_clean['DEWP'])"
   ]
  },
  {
   "cell_type": "code",
   "execution_count": 28,
   "id": "fd5eaf55",
   "metadata": {
    "execution": {
     "iopub.execute_input": "2023-08-17T23:45:12.860415Z",
     "iopub.status.busy": "2023-08-17T23:45:12.860137Z",
     "iopub.status.idle": "2023-08-17T23:45:13.680148Z",
     "shell.execute_reply": "2023-08-17T23:45:13.679153Z"
    },
    "papermill": {
     "duration": 0.837041,
     "end_time": "2023-08-17T23:45:13.681803",
     "exception": false,
     "start_time": "2023-08-17T23:45:12.844762",
     "status": "completed"
    },
    "tags": []
   },
   "outputs": [
    {
     "data": {
      "text/plain": [
       "<Axes: >"
      ]
     },
     "execution_count": 28,
     "metadata": {},
     "output_type": "execute_result"
    },
    {
     "data": {
      "image/png": "[encoded data removed]",
      "text/plain": [
       "<Figure size 2000x2000 with 2 Axes>"
      ]
     },
     "metadata": {},
     "output_type": "display_data"
    }
   ],
   "source": [
    "plt.figure(figsize=(20,20))\n",
    "sns.heatmap(pm_clean.describe(),annot=True)"
   ]
  },
  {
   "cell_type": "markdown",
   "id": "91bd6237",
   "metadata": {
    "papermill": {
     "duration": 0.014957,
     "end_time": "2023-08-17T23:45:13.711537",
     "exception": false,
     "start_time": "2023-08-17T23:45:13.696580",
     "status": "completed"
    },
    "tags": []
   },
   "source": [
    "### **3. Model Implimentation**"
   ]
  },
  {
   "cell_type": "markdown",
   "id": "db98f819",
   "metadata": {
    "papermill": {
     "duration": 0.013965,
     "end_time": "2023-08-17T23:45:13.739608",
     "exception": false,
     "start_time": "2023-08-17T23:45:13.725643",
     "status": "completed"
    },
    "tags": []
   },
   "source": [
    "* Ridge Resgressor"
   ]
  },
  {
   "cell_type": "code",
   "execution_count": 29,
   "id": "a8767b55",
   "metadata": {
    "execution": {
     "iopub.execute_input": "2023-08-17T23:45:13.769101Z",
     "iopub.status.busy": "2023-08-17T23:45:13.768764Z",
     "iopub.status.idle": "2023-08-17T23:45:13.786667Z",
     "shell.execute_reply": "2023-08-17T23:45:13.785977Z"
    },
    "papermill": {
     "duration": 0.035145,
     "end_time": "2023-08-17T23:45:13.788570",
     "exception": false,
     "start_time": "2023-08-17T23:45:13.753425",
     "status": "completed"
    },
    "tags": []
   },
   "outputs": [],
   "source": [
    "rr = Ridge()\n",
    "rr.fit(x_train_new, y_train)\n",
    "y_pred1 = rr.predict(x_test_new)"
   ]
  },
  {
   "cell_type": "markdown",
   "id": "08c4ce6d",
   "metadata": {
    "papermill": {
     "duration": 0.018596,
     "end_time": "2023-08-17T23:45:13.825887",
     "exception": false,
     "start_time": "2023-08-17T23:45:13.807291",
     "status": "completed"
    },
    "tags": []
   },
   "source": [
    "* Linear Regressor"
   ]
  },
  {
   "cell_type": "code",
   "execution_count": 30,
   "id": "4430279b",
   "metadata": {
    "execution": {
     "iopub.execute_input": "2023-08-17T23:45:13.866281Z",
     "iopub.status.busy": "2023-08-17T23:45:13.865941Z",
     "iopub.status.idle": "2023-08-17T23:45:27.130161Z",
     "shell.execute_reply": "2023-08-17T23:45:27.128731Z"
    },
    "papermill": {
     "duration": 13.287001,
     "end_time": "2023-08-17T23:45:27.132332",
     "exception": false,
     "start_time": "2023-08-17T23:45:13.845331",
     "status": "completed"
    },
    "tags": []
   },
   "outputs": [],
   "source": [
    "lr = RandomForestRegressor(random_state = 2529)\n",
    "lr.fit(x_train_new, y_train)\n",
    "y_pred2 = lr.predict(x_test_new)"
   ]
  },
  {
   "cell_type": "markdown",
   "id": "1ad8726d",
   "metadata": {
    "papermill": {
     "duration": 0.014041,
     "end_time": "2023-08-17T23:45:27.161648",
     "exception": false,
     "start_time": "2023-08-17T23:45:27.147607",
     "status": "completed"
    },
    "tags": []
   },
   "source": [
    "### **4. Model Evaluation**"
   ]
  },
  {
   "cell_type": "markdown",
   "id": "1fcc3144",
   "metadata": {
    "papermill": {
     "duration": 0.013625,
     "end_time": "2023-08-17T23:45:27.189340",
     "exception": false,
     "start_time": "2023-08-17T23:45:27.175715",
     "status": "completed"
    },
    "tags": []
   },
   "source": [
    "* Ridge Resgressor"
   ]
  },
  {
   "cell_type": "code",
   "execution_count": 31,
   "id": "aa01991e",
   "metadata": {
    "execution": {
     "iopub.execute_input": "2023-08-17T23:45:27.219221Z",
     "iopub.status.busy": "2023-08-17T23:45:27.218839Z",
     "iopub.status.idle": "2023-08-17T23:45:27.228205Z",
     "shell.execute_reply": "2023-08-17T23:45:27.226728Z"
    },
    "papermill": {
     "duration": 0.026522,
     "end_time": "2023-08-17T23:45:27.229810",
     "exception": false,
     "start_time": "2023-08-17T23:45:27.203288",
     "status": "completed"
    },
    "tags": []
   },
   "outputs": [
    {
     "name": "stdout",
     "output_type": "stream",
     "text": [
      "Ridge R2 Score: 25 %\n",
      "Ridge Mean Square Error: 6543.595573904094\n",
      "Ridge Mean Absolutre Percentage Error: 1.3972602938689136\n"
     ]
    }
   ],
   "source": [
    "r2 = r2_score(y_test, y_pred1)\n",
    "mse = mean_squared_error(y_test, y_pred1)\n",
    "mape = mean_absolute_percentage_error(y_test, y_pred1)\n",
    "\n",
    "print(\"Ridge R2 Score:\", int(100*r2),\"%\")\n",
    "print(\"Ridge Mean Square Error:\", mse)\n",
    "print(\"Ridge Mean Absolutre Percentage Error:\", mape)"
   ]
  },
  {
   "cell_type": "markdown",
   "id": "2a9a1589",
   "metadata": {
    "papermill": {
     "duration": 0.013932,
     "end_time": "2023-08-17T23:45:27.258116",
     "exception": false,
     "start_time": "2023-08-17T23:45:27.244184",
     "status": "completed"
    },
    "tags": []
   },
   "source": [
    "* Linear Resgressor"
   ]
  },
  {
   "cell_type": "code",
   "execution_count": 32,
   "id": "4b7f2aff",
   "metadata": {
    "execution": {
     "iopub.execute_input": "2023-08-17T23:45:27.288222Z",
     "iopub.status.busy": "2023-08-17T23:45:27.287345Z",
     "iopub.status.idle": "2023-08-17T23:45:27.294631Z",
     "shell.execute_reply": "2023-08-17T23:45:27.293677Z"
    },
    "papermill": {
     "duration": 0.024226,
     "end_time": "2023-08-17T23:45:27.296316",
     "exception": false,
     "start_time": "2023-08-17T23:45:27.272090",
     "status": "completed"
    },
    "tags": []
   },
   "outputs": [
    {
     "name": "stdout",
     "output_type": "stream",
     "text": [
      "Linear Regressor R2 Score: 83 %\n",
      "Linear Regressor Mean Square Error: 1479.055730651341\n",
      "Linear Regressor Mean Absolute Percentage Error: 0.4625110389260622\n"
     ]
    }
   ],
   "source": [
    "r2 = r2_score(y_test, y_pred2)\n",
    "mse = mean_squared_error(y_test, y_pred2)\n",
    "mape = mean_absolute_percentage_error(y_test, y_pred2)\n",
    "\n",
    "print(\"Linear Regressor R2 Score:\", int(100*r2),\"%\")\n",
    "print(\"Linear Regressor Mean Square Error:\", mse)\n",
    "print(\"Linear Regressor Mean Absolute Percentage Error:\", mape)"
   ]
  },
  {
   "cell_type": "markdown",
   "id": "2b4d84b2",
   "metadata": {
    "papermill": {
     "duration": 0.014793,
     "end_time": "2023-08-17T23:45:27.325547",
     "exception": false,
     "start_time": "2023-08-17T23:45:27.310754",
     "status": "completed"
    },
    "tags": []
   },
   "source": [
    "### **5. Cross Validation**"
   ]
  },
  {
   "cell_type": "code",
   "execution_count": 33,
   "id": "027c20f2",
   "metadata": {
    "execution": {
     "iopub.execute_input": "2023-08-17T23:45:27.355605Z",
     "iopub.status.busy": "2023-08-17T23:45:27.355073Z",
     "iopub.status.idle": "2023-08-17T23:45:27.359640Z",
     "shell.execute_reply": "2023-08-17T23:45:27.358544Z"
    },
    "papermill": {
     "duration": 0.021502,
     "end_time": "2023-08-17T23:45:27.361266",
     "exception": false,
     "start_time": "2023-08-17T23:45:27.339764",
     "status": "completed"
    },
    "tags": []
   },
   "outputs": [],
   "source": [
    "from sklearn.model_selection import cross_val_score"
   ]
  },
  {
   "cell_type": "markdown",
   "id": "a467b385",
   "metadata": {
    "papermill": {
     "duration": 0.013724,
     "end_time": "2023-08-17T23:45:27.389185",
     "exception": false,
     "start_time": "2023-08-17T23:45:27.375461",
     "status": "completed"
    },
    "tags": []
   },
   "source": [
    "* Ridge Resgressor"
   ]
  },
  {
   "cell_type": "code",
   "execution_count": 34,
   "id": "de0068f9",
   "metadata": {
    "execution": {
     "iopub.execute_input": "2023-08-17T23:45:27.418962Z",
     "iopub.status.busy": "2023-08-17T23:45:27.418413Z",
     "iopub.status.idle": "2023-08-17T23:45:27.491526Z",
     "shell.execute_reply": "2023-08-17T23:45:27.490678Z"
    },
    "papermill": {
     "duration": 0.090284,
     "end_time": "2023-08-17T23:45:27.493480",
     "exception": false,
     "start_time": "2023-08-17T23:45:27.403196",
     "status": "completed"
    },
    "tags": []
   },
   "outputs": [
    {
     "data": {
      "text/plain": [
       "array([0.26421285, 0.25709996, 0.24969478, 0.25450657, 0.26674251,\n",
       "       0.26964883, 0.26703525, 0.26531221, 0.26213327, 0.25083841])"
      ]
     },
     "execution_count": 34,
     "metadata": {},
     "output_type": "execute_result"
    }
   ],
   "source": [
    "scores1 = cross_val_score(rr, x_train_new, y_train, cv=10)\n",
    "scores1"
   ]
  },
  {
   "cell_type": "markdown",
   "id": "e52d82e7",
   "metadata": {
    "papermill": {
     "duration": 0.019207,
     "end_time": "2023-08-17T23:45:27.536341",
     "exception": false,
     "start_time": "2023-08-17T23:45:27.517134",
     "status": "completed"
    },
    "tags": []
   },
   "source": [
    "* Linear Resgressor"
   ]
  },
  {
   "cell_type": "code",
   "execution_count": 35,
   "id": "c358c863",
   "metadata": {
    "execution": {
     "iopub.execute_input": "2023-08-17T23:45:27.575980Z",
     "iopub.status.busy": "2023-08-17T23:45:27.575201Z",
     "iopub.status.idle": "2023-08-17T23:47:23.439260Z",
     "shell.execute_reply": "2023-08-17T23:47:23.438087Z"
    },
    "papermill": {
     "duration": 115.899823,
     "end_time": "2023-08-17T23:47:23.455169",
     "exception": false,
     "start_time": "2023-08-17T23:45:27.555346",
     "status": "completed"
    },
    "tags": []
   },
   "outputs": [
    {
     "data": {
      "text/plain": [
       "array([0.83403507, 0.81331789, 0.82208658, 0.81523214, 0.8375752 ,\n",
       "       0.83211377, 0.83268228, 0.85805018, 0.85576936, 0.83396693])"
      ]
     },
     "execution_count": 35,
     "metadata": {},
     "output_type": "execute_result"
    }
   ],
   "source": [
    "scores2 = cross_val_score(lr, x_train_new, y_train, cv=10)\n",
    "scores2"
   ]
  },
  {
   "cell_type": "markdown",
   "id": "839d830f",
   "metadata": {
    "papermill": {
     "duration": 0.015511,
     "end_time": "2023-08-17T23:47:23.485394",
     "exception": false,
     "start_time": "2023-08-17T23:47:23.469883",
     "status": "completed"
    },
    "tags": []
   },
   "source": [
    "### Question And Answers"
   ]
  },
  {
   "cell_type": "markdown",
   "id": "13c4f93d",
   "metadata": {
    "papermill": {
     "duration": 0.014434,
     "end_time": "2023-08-17T23:47:23.514710",
     "exception": false,
     "start_time": "2023-08-17T23:47:23.500276",
     "status": "completed"
    },
    "tags": []
   },
   "source": [
    "Question-1. What challenges did you encounter while prepraing the dataset at preprocessing and EDA analysis?"
   ]
  },
  {
   "cell_type": "markdown",
   "id": "6ed02272",
   "metadata": {
    "papermill": {
     "duration": 0.014207,
     "end_time": "2023-08-17T23:47:23.543374",
     "exception": false,
     "start_time": "2023-08-17T23:47:23.529167",
     "status": "completed"
    },
    "tags": []
   },
   "source": [
    "**Answer -** I have to a convert categorical data to numerical data and remove Null value"
   ]
  },
  {
   "cell_type": "markdown",
   "id": "9c5aef78",
   "metadata": {
    "papermill": {
     "duration": 0.0138,
     "end_time": "2023-08-17T23:47:23.571428",
     "exception": false,
     "start_time": "2023-08-17T23:47:23.557628",
     "status": "completed"
    },
    "tags": []
   },
   "source": [
    "Question-2. Descirbe the difference observed while modelling with linear and logistic regressor."
   ]
  },
  {
   "cell_type": "markdown",
   "id": "143158c7",
   "metadata": {
    "papermill": {
     "duration": 0.014058,
     "end_time": "2023-08-17T23:47:23.599622",
     "exception": false,
     "start_time": "2023-08-17T23:47:23.585564",
     "status": "completed"
    },
    "tags": []
   },
   "source": [
    "**Answer -** The main difference between them is how they are being used. Linear Regression is used to solve Regression problems whereas Logistic Regression is used to solve Classification problems"
   ]
  },
  {
   "cell_type": "markdown",
   "id": "94301414",
   "metadata": {
    "papermill": {
     "duration": 0.014914,
     "end_time": "2023-08-17T23:47:23.629197",
     "exception": false,
     "start_time": "2023-08-17T23:47:23.614283",
     "status": "completed"
    },
    "tags": []
   },
   "source": [
    "Question-3. How did you evaluate the performance of the linear and logestic regressor?"
   ]
  },
  {
   "cell_type": "markdown",
   "id": "414a61c9",
   "metadata": {
    "papermill": {
     "duration": 0.013989,
     "end_time": "2023-08-17T23:47:23.657665",
     "exception": false,
     "start_time": "2023-08-17T23:47:23.643676",
     "status": "completed"
    },
    "tags": []
   },
   "source": [
    "**Answer -** I used R2 Score, Mean Square Error and Mean Absolutre Percentage Error"
   ]
  },
  {
   "cell_type": "markdown",
   "id": "ae5a6722",
   "metadata": {
    "papermill": {
     "duration": 0.014588,
     "end_time": "2023-08-17T23:47:23.686848",
     "exception": false,
     "start_time": "2023-08-17T23:47:23.672260",
     "status": "completed"
    },
    "tags": []
   },
   "source": [
    "Question-4. Did you observe any sign of overfitting during training? If so, how did you handle it?"
   ]
  },
  {
   "cell_type": "markdown",
   "id": "6c555f87",
   "metadata": {
    "papermill": {
     "duration": 0.014545,
     "end_time": "2023-08-17T23:47:23.716549",
     "exception": false,
     "start_time": "2023-08-17T23:47:23.702004",
     "status": "completed"
    },
    "tags": []
   },
   "source": [
    "**Answer -** The performance of the model on the training dataset is significantly better than the performance on the test dataset, then the model may have overfit the training dataset. Testing the machine learning models on more data with with comprehensive representation of possible input data values and types."
   ]
  },
  {
   "cell_type": "markdown",
   "id": "a6206fd3",
   "metadata": {
    "papermill": {
     "duration": 0.014709,
     "end_time": "2023-08-17T23:47:23.746140",
     "exception": false,
     "start_time": "2023-08-17T23:47:23.731431",
     "status": "completed"
    },
    "tags": []
   },
   "source": [
    "Question-5. How well did you model perform on testing set compared to the training set?"
   ]
  },
  {
   "cell_type": "markdown",
   "id": "2624b73b",
   "metadata": {
    "papermill": {
     "duration": 0.014319,
     "end_time": "2023-08-17T23:47:23.775154",
     "exception": false,
     "start_time": "2023-08-17T23:47:23.760835",
     "status": "completed"
    },
    "tags": []
   },
   "source": [
    "**Answer -** Its performed quite good on testing set compared to the training set"
   ]
  },
  {
   "cell_type": "markdown",
   "id": "3aa65aee",
   "metadata": {
    "papermill": {
     "duration": 0.014575,
     "end_time": "2023-08-17T23:47:23.804453",
     "exception": false,
     "start_time": "2023-08-17T23:47:23.789878",
     "status": "completed"
    },
    "tags": []
   },
   "source": [
    "Question-6. how did you choose the number of cluser for the K-means algorithm? Explain why?"
   ]
  },
  {
   "cell_type": "markdown",
   "id": "92afd756",
   "metadata": {
    "papermill": {
     "duration": 0.014811,
     "end_time": "2023-08-17T23:47:23.834478",
     "exception": false,
     "start_time": "2023-08-17T23:47:23.819667",
     "status": "completed"
    },
    "tags": []
   },
   "source": [
    "**Answer -** I used the Elbow Method to determine the number of cluster for the K-means Algorithm"
   ]
  }
 ],
 "metadata": {
  "kernelspec": {
   "display_name": "Python 3",
   "language": "python",
   "name": "python3"
  },
  "language_info": {
   "codemirror_mode": {
    "name": "ipython",
    "version": 3
   },
   "file_extension": ".py",
   "mimetype": "text/x-python",
   "name": "python",
   "nbconvert_exporter": "python",
   "pygments_lexer": "ipython3",
   "version": "3.10.12"
  },
  "papermill": {
   "default_parameters": {},
   "duration": 145.529114,
   "end_time": "2023-08-17T23:47:24.670344",
   "environment_variables": {},
   "exception": null,
   "input_path": "__notebook__.ipynb",
   "output_path": "__notebook__.ipynb",
   "parameters": {},
   "start_time": "2023-08-17T23:44:59.141230",
   "version": "2.4.0"
  }
 },
 "nbformat": 4,
 "nbformat_minor": 5
}
