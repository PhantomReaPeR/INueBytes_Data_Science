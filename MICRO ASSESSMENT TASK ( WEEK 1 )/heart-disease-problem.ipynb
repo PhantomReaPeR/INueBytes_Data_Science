{
 "cells": [
  {
   "cell_type": "code",
   "execution_count": 1,
   "id": "8771e8a8",
   "metadata": {
    "_cell_guid": "b1076dfc-b9ad-4769-8c92-a6c4dae69d19",
    "_uuid": "8f2839f25d086af736a60e9eeb907d3b93b6e0e5",
    "execution": {
     "iopub.execute_input": "2023-07-30T21:18:15.508386Z",
     "iopub.status.busy": "2023-07-30T21:18:15.508016Z",
     "iopub.status.idle": "2023-07-30T21:18:15.536036Z",
     "shell.execute_reply": "2023-07-30T21:18:15.535176Z"
    },
    "papermill": {
     "duration": 0.043493,
     "end_time": "2023-07-30T21:18:15.538479",
     "exception": false,
     "start_time": "2023-07-30T21:18:15.494986",
     "status": "completed"
    },
    "tags": []
   },
   "outputs": [
    {
     "name": "stdout",
     "output_type": "stream",
     "text": [
      "/kaggle/input/heart-disease-dataset/heart.csv\n"
     ]
    }
   ],
   "source": [
    "# This Python 3 environment comes with many helpful analytics libraries installed\n",
    "# It is defined by the kaggle/python Docker image: https://github.com/kaggle/docker-python\n",
    "# For example, here's several helpful packages to load\n",
    "\n",
    "import numpy as np # linear algebra\n",
    "import pandas as pd # data processing, CSV file I/O (e.g. pd.read_csv)\n",
    "\n",
    "# Input data files are available in the read-only \"../input/\" directory\n",
    "# For example, running this (by clicking run or pressing Shift+Enter) will list all files under the input directory\n",
    "\n",
    "import os\n",
    "for dirname, _, filenames in os.walk('/kaggle/input'):\n",
    "    for filename in filenames:\n",
    "        print(os.path.join(dirname, filename))\n",
    "\n",
    "# You can write up to 20GB to the current directory (/kaggle/working/) that gets preserved as output when you create a version using \"Save & Run All\" \n",
    "# You can also write temporary files to /kaggle/temp/, but they won't be saved outside of the current session"
   ]
  },
  {
   "cell_type": "markdown",
   "id": "c0603256",
   "metadata": {
    "papermill": {
     "duration": 0.012535,
     "end_time": "2023-07-30T21:18:15.562252",
     "exception": false,
     "start_time": "2023-07-30T21:18:15.549717",
     "status": "completed"
    },
    "tags": []
   },
   "source": [
    "# **Inuebytes INTERNSHIP PROJECT-1 (DATA SCIENCE)**"
   ]
  },
  {
   "cell_type": "markdown",
   "id": "a4560db9",
   "metadata": {
    "papermill": {
     "duration": 0.011463,
     "end_time": "2023-07-30T21:18:15.585138",
     "exception": false,
     "start_time": "2023-07-30T21:18:15.573675",
     "status": "completed"
    },
    "tags": []
   },
   "source": [
    "## INDEX"
   ]
  },
  {
   "cell_type": "markdown",
   "id": "83debb0f",
   "metadata": {
    "papermill": {
     "duration": 0.010665,
     "end_time": "2023-07-30T21:18:15.606941",
     "exception": false,
     "start_time": "2023-07-30T21:18:15.596276",
     "status": "completed"
    },
    "tags": []
   },
   "source": [
    "## 1. Data Preprocessing\n",
    "## 2. Exploratory Data Analysis (EDA) \n",
    "## 3. Model Implementation\n",
    "## 4. Model Evaluation\n",
    "## 5. Cross Validation\n",
    "## Question And Answers"
   ]
  },
  {
   "cell_type": "markdown",
   "id": "17e3dc1d",
   "metadata": {
    "papermill": {
     "duration": 0.010678,
     "end_time": "2023-07-30T21:18:15.628672",
     "exception": false,
     "start_time": "2023-07-30T21:18:15.617994",
     "status": "completed"
    },
    "tags": []
   },
   "source": [
    "## **1. Data Processsing**\n",
    "* Loading Data Set"
   ]
  },
  {
   "cell_type": "code",
   "execution_count": 2,
   "id": "9f5e87dd",
   "metadata": {
    "execution": {
     "iopub.execute_input": "2023-07-30T21:18:15.652887Z",
     "iopub.status.busy": "2023-07-30T21:18:15.652217Z",
     "iopub.status.idle": "2023-07-30T21:18:15.675456Z",
     "shell.execute_reply": "2023-07-30T21:18:15.674442Z"
    },
    "papermill": {
     "duration": 0.038171,
     "end_time": "2023-07-30T21:18:15.677984",
     "exception": false,
     "start_time": "2023-07-30T21:18:15.639813",
     "status": "completed"
    },
    "tags": []
   },
   "outputs": [],
   "source": [
    "heart = pd.read_csv(\"/kaggle/input/heart-disease-dataset/heart.csv\")"
   ]
  },
  {
   "cell_type": "code",
   "execution_count": 3,
   "id": "df95ba2a",
   "metadata": {
    "execution": {
     "iopub.execute_input": "2023-07-30T21:18:15.702601Z",
     "iopub.status.busy": "2023-07-30T21:18:15.702232Z",
     "iopub.status.idle": "2023-07-30T21:18:15.709335Z",
     "shell.execute_reply": "2023-07-30T21:18:15.708261Z"
    },
    "papermill": {
     "duration": 0.021507,
     "end_time": "2023-07-30T21:18:15.711417",
     "exception": false,
     "start_time": "2023-07-30T21:18:15.689910",
     "status": "completed"
    },
    "tags": []
   },
   "outputs": [
    {
     "data": {
      "text/plain": [
       "(1025, 14)"
      ]
     },
     "execution_count": 3,
     "metadata": {},
     "output_type": "execute_result"
    }
   ],
   "source": [
    "heart.shape"
   ]
  },
  {
   "cell_type": "code",
   "execution_count": 4,
   "id": "4ac728c4",
   "metadata": {
    "execution": {
     "iopub.execute_input": "2023-07-30T21:18:15.736231Z",
     "iopub.status.busy": "2023-07-30T21:18:15.735832Z",
     "iopub.status.idle": "2023-07-30T21:18:15.757538Z",
     "shell.execute_reply": "2023-07-30T21:18:15.756440Z"
    },
    "papermill": {
     "duration": 0.037111,
     "end_time": "2023-07-30T21:18:15.759732",
     "exception": false,
     "start_time": "2023-07-30T21:18:15.722621",
     "status": "completed"
    },
    "tags": []
   },
   "outputs": [
    {
     "data": {
      "text/html": [
       "<div>\n",
       "<style scoped>\n",
       "    .dataframe tbody tr th:only-of-type {\n",
       "        vertical-align: middle;\n",
       "    }\n",
       "\n",
       "    .dataframe tbody tr th {\n",
       "        vertical-align: top;\n",
       "    }\n",
       "\n",
       "    .dataframe thead th {\n",
       "        text-align: right;\n",
       "    }\n",
       "</style>\n",
       "<table border=\"1\" class=\"dataframe\">\n",
       "  <thead>\n",
       "    <tr style=\"text-align: right;\">\n",
       "      <th></th>\n",
       "      <th>age</th>\n",
       "      <th>sex</th>\n",
       "      <th>cp</th>\n",
       "      <th>trestbps</th>\n",
       "      <th>chol</th>\n",
       "      <th>fbs</th>\n",
       "      <th>restecg</th>\n",
       "      <th>thalach</th>\n",
       "      <th>exang</th>\n",
       "      <th>oldpeak</th>\n",
       "      <th>slope</th>\n",
       "      <th>ca</th>\n",
       "      <th>thal</th>\n",
       "      <th>target</th>\n",
       "    </tr>\n",
       "  </thead>\n",
       "  <tbody>\n",
       "    <tr>\n",
       "      <th>0</th>\n",
       "      <td>52</td>\n",
       "      <td>1</td>\n",
       "      <td>0</td>\n",
       "      <td>125</td>\n",
       "      <td>212</td>\n",
       "      <td>0</td>\n",
       "      <td>1</td>\n",
       "      <td>168</td>\n",
       "      <td>0</td>\n",
       "      <td>1.0</td>\n",
       "      <td>2</td>\n",
       "      <td>2</td>\n",
       "      <td>3</td>\n",
       "      <td>0</td>\n",
       "    </tr>\n",
       "    <tr>\n",
       "      <th>1</th>\n",
       "      <td>53</td>\n",
       "      <td>1</td>\n",
       "      <td>0</td>\n",
       "      <td>140</td>\n",
       "      <td>203</td>\n",
       "      <td>1</td>\n",
       "      <td>0</td>\n",
       "      <td>155</td>\n",
       "      <td>1</td>\n",
       "      <td>3.1</td>\n",
       "      <td>0</td>\n",
       "      <td>0</td>\n",
       "      <td>3</td>\n",
       "      <td>0</td>\n",
       "    </tr>\n",
       "    <tr>\n",
       "      <th>2</th>\n",
       "      <td>70</td>\n",
       "      <td>1</td>\n",
       "      <td>0</td>\n",
       "      <td>145</td>\n",
       "      <td>174</td>\n",
       "      <td>0</td>\n",
       "      <td>1</td>\n",
       "      <td>125</td>\n",
       "      <td>1</td>\n",
       "      <td>2.6</td>\n",
       "      <td>0</td>\n",
       "      <td>0</td>\n",
       "      <td>3</td>\n",
       "      <td>0</td>\n",
       "    </tr>\n",
       "    <tr>\n",
       "      <th>3</th>\n",
       "      <td>61</td>\n",
       "      <td>1</td>\n",
       "      <td>0</td>\n",
       "      <td>148</td>\n",
       "      <td>203</td>\n",
       "      <td>0</td>\n",
       "      <td>1</td>\n",
       "      <td>161</td>\n",
       "      <td>0</td>\n",
       "      <td>0.0</td>\n",
       "      <td>2</td>\n",
       "      <td>1</td>\n",
       "      <td>3</td>\n",
       "      <td>0</td>\n",
       "    </tr>\n",
       "    <tr>\n",
       "      <th>4</th>\n",
       "      <td>62</td>\n",
       "      <td>0</td>\n",
       "      <td>0</td>\n",
       "      <td>138</td>\n",
       "      <td>294</td>\n",
       "      <td>1</td>\n",
       "      <td>1</td>\n",
       "      <td>106</td>\n",
       "      <td>0</td>\n",
       "      <td>1.9</td>\n",
       "      <td>1</td>\n",
       "      <td>3</td>\n",
       "      <td>2</td>\n",
       "      <td>0</td>\n",
       "    </tr>\n",
       "  </tbody>\n",
       "</table>\n",
       "</div>"
      ],
      "text/plain": [
       "   age  sex  cp  trestbps  chol  fbs  restecg  thalach  exang  oldpeak  slope  \\\n",
       "0   52    1   0       125   212    0        1      168      0      1.0      2   \n",
       "1   53    1   0       140   203    1        0      155      1      3.1      0   \n",
       "2   70    1   0       145   174    0        1      125      1      2.6      0   \n",
       "3   61    1   0       148   203    0        1      161      0      0.0      2   \n",
       "4   62    0   0       138   294    1        1      106      0      1.9      1   \n",
       "\n",
       "   ca  thal  target  \n",
       "0   2     3       0  \n",
       "1   0     3       0  \n",
       "2   0     3       0  \n",
       "3   1     3       0  \n",
       "4   3     2       0  "
      ]
     },
     "execution_count": 4,
     "metadata": {},
     "output_type": "execute_result"
    }
   ],
   "source": [
    "heart.head()"
   ]
  },
  {
   "cell_type": "markdown",
   "id": "42ed672b",
   "metadata": {
    "papermill": {
     "duration": 0.011184,
     "end_time": "2023-07-30T21:18:15.782781",
     "exception": false,
     "start_time": "2023-07-30T21:18:15.771597",
     "status": "completed"
    },
    "tags": []
   },
   "source": [
    "* Import Library"
   ]
  },
  {
   "cell_type": "code",
   "execution_count": 5,
   "id": "97ef3b99",
   "metadata": {
    "execution": {
     "iopub.execute_input": "2023-07-30T21:18:15.807568Z",
     "iopub.status.busy": "2023-07-30T21:18:15.807161Z",
     "iopub.status.idle": "2023-07-30T21:18:17.646735Z",
     "shell.execute_reply": "2023-07-30T21:18:17.645825Z"
    },
    "papermill": {
     "duration": 1.854784,
     "end_time": "2023-07-30T21:18:17.649090",
     "exception": false,
     "start_time": "2023-07-30T21:18:15.794306",
     "status": "completed"
    },
    "tags": []
   },
   "outputs": [
    {
     "name": "stderr",
     "output_type": "stream",
     "text": [
      "/opt/conda/lib/python3.10/site-packages/scipy/__init__.py:146: UserWarning: A NumPy version >=1.16.5 and <1.23.0 is required for this version of SciPy (detected version 1.23.5\n",
      "  warnings.warn(f\"A NumPy version >={np_minversion} and <{np_maxversion}\"\n"
     ]
    }
   ],
   "source": [
    "import pandas as pd\n",
    "import numpy as np\n",
    "import matplotlib.pyplot as plt \n",
    "import seaborn as sns\n",
    "from sklearn.preprocessing import LabelEncoder\n",
    "from sklearn.model_selection import train_test_split\n",
    "from sklearn.neighbors import KNeighborsClassifier\n",
    "from sklearn.tree import DecisionTreeClassifier\n",
    "from sklearn.naive_bayes import GaussianNB\n",
    "from sklearn.metrics import accuracy_score,precision_score,recall_score,f1_score,confusion_matrix"
   ]
  },
  {
   "cell_type": "markdown",
   "id": "af20b3f0",
   "metadata": {
    "papermill": {
     "duration": 0.011262,
     "end_time": "2023-07-30T21:18:17.672004",
     "exception": false,
     "start_time": "2023-07-30T21:18:17.660742",
     "status": "completed"
    },
    "tags": []
   },
   "source": [
    "* Checking for missing and null values"
   ]
  },
  {
   "cell_type": "code",
   "execution_count": 6,
   "id": "95da6aa7",
   "metadata": {
    "execution": {
     "iopub.execute_input": "2023-07-30T21:18:17.697327Z",
     "iopub.status.busy": "2023-07-30T21:18:17.696630Z",
     "iopub.status.idle": "2023-07-30T21:18:17.722864Z",
     "shell.execute_reply": "2023-07-30T21:18:17.721784Z"
    },
    "papermill": {
     "duration": 0.041451,
     "end_time": "2023-07-30T21:18:17.724974",
     "exception": false,
     "start_time": "2023-07-30T21:18:17.683523",
     "status": "completed"
    },
    "tags": []
   },
   "outputs": [
    {
     "name": "stdout",
     "output_type": "stream",
     "text": [
      "<class 'pandas.core.frame.DataFrame'>\n",
      "RangeIndex: 1025 entries, 0 to 1024\n",
      "Data columns (total 14 columns):\n",
      " #   Column    Non-Null Count  Dtype  \n",
      "---  ------    --------------  -----  \n",
      " 0   age       1025 non-null   int64  \n",
      " 1   sex       1025 non-null   int64  \n",
      " 2   cp        1025 non-null   int64  \n",
      " 3   trestbps  1025 non-null   int64  \n",
      " 4   chol      1025 non-null   int64  \n",
      " 5   fbs       1025 non-null   int64  \n",
      " 6   restecg   1025 non-null   int64  \n",
      " 7   thalach   1025 non-null   int64  \n",
      " 8   exang     1025 non-null   int64  \n",
      " 9   oldpeak   1025 non-null   float64\n",
      " 10  slope     1025 non-null   int64  \n",
      " 11  ca        1025 non-null   int64  \n",
      " 12  thal      1025 non-null   int64  \n",
      " 13  target    1025 non-null   int64  \n",
      "dtypes: float64(1), int64(13)\n",
      "memory usage: 112.2 KB\n"
     ]
    }
   ],
   "source": [
    "heart.info()"
   ]
  },
  {
   "cell_type": "markdown",
   "id": "6e796d86",
   "metadata": {
    "papermill": {
     "duration": 0.011198,
     "end_time": "2023-07-30T21:18:17.747796",
     "exception": false,
     "start_time": "2023-07-30T21:18:17.736598",
     "status": "completed"
    },
    "tags": []
   },
   "source": [
    "* Train Test Split Data"
   ]
  },
  {
   "cell_type": "code",
   "execution_count": 7,
   "id": "c39e372a",
   "metadata": {
    "execution": {
     "iopub.execute_input": "2023-07-30T21:18:17.772853Z",
     "iopub.status.busy": "2023-07-30T21:18:17.772218Z",
     "iopub.status.idle": "2023-07-30T21:18:17.779589Z",
     "shell.execute_reply": "2023-07-30T21:18:17.778637Z"
    },
    "papermill": {
     "duration": 0.022431,
     "end_time": "2023-07-30T21:18:17.781795",
     "exception": false,
     "start_time": "2023-07-30T21:18:17.759364",
     "status": "completed"
    },
    "tags": []
   },
   "outputs": [],
   "source": [
    "x=heart.iloc[:,:-1]\n",
    "y=heart.iloc[:,-1]"
   ]
  },
  {
   "cell_type": "code",
   "execution_count": 8,
   "id": "a14aebf8",
   "metadata": {
    "execution": {
     "iopub.execute_input": "2023-07-30T21:18:17.806937Z",
     "iopub.status.busy": "2023-07-30T21:18:17.806319Z",
     "iopub.status.idle": "2023-07-30T21:18:17.813144Z",
     "shell.execute_reply": "2023-07-30T21:18:17.812152Z"
    },
    "papermill": {
     "duration": 0.021861,
     "end_time": "2023-07-30T21:18:17.815322",
     "exception": false,
     "start_time": "2023-07-30T21:18:17.793461",
     "status": "completed"
    },
    "tags": []
   },
   "outputs": [],
   "source": [
    "from sklearn.model_selection import train_test_split\n",
    "x_train,x_test,y_train,y_test=train_test_split(x,y,test_size=0.2,random_state=42)"
   ]
  },
  {
   "cell_type": "markdown",
   "id": "42124150",
   "metadata": {
    "papermill": {
     "duration": 0.011259,
     "end_time": "2023-07-30T21:18:17.838476",
     "exception": false,
     "start_time": "2023-07-30T21:18:17.827217",
     "status": "completed"
    },
    "tags": []
   },
   "source": [
    "* Standardizing"
   ]
  },
  {
   "cell_type": "code",
   "execution_count": 9,
   "id": "62fdcea1",
   "metadata": {
    "execution": {
     "iopub.execute_input": "2023-07-30T21:18:17.863355Z",
     "iopub.status.busy": "2023-07-30T21:18:17.862727Z",
     "iopub.status.idle": "2023-07-30T21:18:17.867288Z",
     "shell.execute_reply": "2023-07-30T21:18:17.866470Z"
    },
    "papermill": {
     "duration": 0.019342,
     "end_time": "2023-07-30T21:18:17.869304",
     "exception": false,
     "start_time": "2023-07-30T21:18:17.849962",
     "status": "completed"
    },
    "tags": []
   },
   "outputs": [],
   "source": [
    "from sklearn.preprocessing import StandardScaler\n",
    "ss=StandardScaler()"
   ]
  },
  {
   "cell_type": "code",
   "execution_count": 10,
   "id": "154b5346",
   "metadata": {
    "execution": {
     "iopub.execute_input": "2023-07-30T21:18:17.895140Z",
     "iopub.status.busy": "2023-07-30T21:18:17.894524Z",
     "iopub.status.idle": "2023-07-30T21:18:17.904936Z",
     "shell.execute_reply": "2023-07-30T21:18:17.904158Z"
    },
    "papermill": {
     "duration": 0.025934,
     "end_time": "2023-07-30T21:18:17.907164",
     "exception": false,
     "start_time": "2023-07-30T21:18:17.881230",
     "status": "completed"
    },
    "tags": []
   },
   "outputs": [],
   "source": [
    "x_train_new=ss.fit_transform(x_train)\n",
    "x_test_new=ss.transform(x_test)"
   ]
  },
  {
   "cell_type": "markdown",
   "id": "6a7956fe",
   "metadata": {
    "papermill": {
     "duration": 0.01156,
     "end_time": "2023-07-30T21:18:17.930307",
     "exception": false,
     "start_time": "2023-07-30T21:18:17.918747",
     "status": "completed"
    },
    "tags": []
   },
   "source": [
    "## 2. Exploratory Data Analysis (EDA)"
   ]
  },
  {
   "cell_type": "code",
   "execution_count": 11,
   "id": "99ecef42",
   "metadata": {
    "execution": {
     "iopub.execute_input": "2023-07-30T21:18:17.955258Z",
     "iopub.status.busy": "2023-07-30T21:18:17.954845Z",
     "iopub.status.idle": "2023-07-30T21:18:18.008465Z",
     "shell.execute_reply": "2023-07-30T21:18:18.007348Z"
    },
    "papermill": {
     "duration": 0.069206,
     "end_time": "2023-07-30T21:18:18.010951",
     "exception": false,
     "start_time": "2023-07-30T21:18:17.941745",
     "status": "completed"
    },
    "tags": []
   },
   "outputs": [
    {
     "data": {
      "text/html": [
       "<div>\n",
       "<style scoped>\n",
       "    .dataframe tbody tr th:only-of-type {\n",
       "        vertical-align: middle;\n",
       "    }\n",
       "\n",
       "    .dataframe tbody tr th {\n",
       "        vertical-align: top;\n",
       "    }\n",
       "\n",
       "    .dataframe thead th {\n",
       "        text-align: right;\n",
       "    }\n",
       "</style>\n",
       "<table border=\"1\" class=\"dataframe\">\n",
       "  <thead>\n",
       "    <tr style=\"text-align: right;\">\n",
       "      <th></th>\n",
       "      <th>age</th>\n",
       "      <th>sex</th>\n",
       "      <th>cp</th>\n",
       "      <th>trestbps</th>\n",
       "      <th>chol</th>\n",
       "      <th>fbs</th>\n",
       "      <th>restecg</th>\n",
       "      <th>thalach</th>\n",
       "      <th>exang</th>\n",
       "      <th>oldpeak</th>\n",
       "      <th>slope</th>\n",
       "      <th>ca</th>\n",
       "      <th>thal</th>\n",
       "      <th>target</th>\n",
       "    </tr>\n",
       "  </thead>\n",
       "  <tbody>\n",
       "    <tr>\n",
       "      <th>count</th>\n",
       "      <td>1025.000000</td>\n",
       "      <td>1025.000000</td>\n",
       "      <td>1025.000000</td>\n",
       "      <td>1025.000000</td>\n",
       "      <td>1025.00000</td>\n",
       "      <td>1025.000000</td>\n",
       "      <td>1025.000000</td>\n",
       "      <td>1025.000000</td>\n",
       "      <td>1025.000000</td>\n",
       "      <td>1025.000000</td>\n",
       "      <td>1025.000000</td>\n",
       "      <td>1025.000000</td>\n",
       "      <td>1025.000000</td>\n",
       "      <td>1025.000000</td>\n",
       "    </tr>\n",
       "    <tr>\n",
       "      <th>mean</th>\n",
       "      <td>54.434146</td>\n",
       "      <td>0.695610</td>\n",
       "      <td>0.942439</td>\n",
       "      <td>131.611707</td>\n",
       "      <td>246.00000</td>\n",
       "      <td>0.149268</td>\n",
       "      <td>0.529756</td>\n",
       "      <td>149.114146</td>\n",
       "      <td>0.336585</td>\n",
       "      <td>1.071512</td>\n",
       "      <td>1.385366</td>\n",
       "      <td>0.754146</td>\n",
       "      <td>2.323902</td>\n",
       "      <td>0.513171</td>\n",
       "    </tr>\n",
       "    <tr>\n",
       "      <th>std</th>\n",
       "      <td>9.072290</td>\n",
       "      <td>0.460373</td>\n",
       "      <td>1.029641</td>\n",
       "      <td>17.516718</td>\n",
       "      <td>51.59251</td>\n",
       "      <td>0.356527</td>\n",
       "      <td>0.527878</td>\n",
       "      <td>23.005724</td>\n",
       "      <td>0.472772</td>\n",
       "      <td>1.175053</td>\n",
       "      <td>0.617755</td>\n",
       "      <td>1.030798</td>\n",
       "      <td>0.620660</td>\n",
       "      <td>0.500070</td>\n",
       "    </tr>\n",
       "    <tr>\n",
       "      <th>min</th>\n",
       "      <td>29.000000</td>\n",
       "      <td>0.000000</td>\n",
       "      <td>0.000000</td>\n",
       "      <td>94.000000</td>\n",
       "      <td>126.00000</td>\n",
       "      <td>0.000000</td>\n",
       "      <td>0.000000</td>\n",
       "      <td>71.000000</td>\n",
       "      <td>0.000000</td>\n",
       "      <td>0.000000</td>\n",
       "      <td>0.000000</td>\n",
       "      <td>0.000000</td>\n",
       "      <td>0.000000</td>\n",
       "      <td>0.000000</td>\n",
       "    </tr>\n",
       "    <tr>\n",
       "      <th>25%</th>\n",
       "      <td>48.000000</td>\n",
       "      <td>0.000000</td>\n",
       "      <td>0.000000</td>\n",
       "      <td>120.000000</td>\n",
       "      <td>211.00000</td>\n",
       "      <td>0.000000</td>\n",
       "      <td>0.000000</td>\n",
       "      <td>132.000000</td>\n",
       "      <td>0.000000</td>\n",
       "      <td>0.000000</td>\n",
       "      <td>1.000000</td>\n",
       "      <td>0.000000</td>\n",
       "      <td>2.000000</td>\n",
       "      <td>0.000000</td>\n",
       "    </tr>\n",
       "    <tr>\n",
       "      <th>50%</th>\n",
       "      <td>56.000000</td>\n",
       "      <td>1.000000</td>\n",
       "      <td>1.000000</td>\n",
       "      <td>130.000000</td>\n",
       "      <td>240.00000</td>\n",
       "      <td>0.000000</td>\n",
       "      <td>1.000000</td>\n",
       "      <td>152.000000</td>\n",
       "      <td>0.000000</td>\n",
       "      <td>0.800000</td>\n",
       "      <td>1.000000</td>\n",
       "      <td>0.000000</td>\n",
       "      <td>2.000000</td>\n",
       "      <td>1.000000</td>\n",
       "    </tr>\n",
       "    <tr>\n",
       "      <th>75%</th>\n",
       "      <td>61.000000</td>\n",
       "      <td>1.000000</td>\n",
       "      <td>2.000000</td>\n",
       "      <td>140.000000</td>\n",
       "      <td>275.00000</td>\n",
       "      <td>0.000000</td>\n",
       "      <td>1.000000</td>\n",
       "      <td>166.000000</td>\n",
       "      <td>1.000000</td>\n",
       "      <td>1.800000</td>\n",
       "      <td>2.000000</td>\n",
       "      <td>1.000000</td>\n",
       "      <td>3.000000</td>\n",
       "      <td>1.000000</td>\n",
       "    </tr>\n",
       "    <tr>\n",
       "      <th>max</th>\n",
       "      <td>77.000000</td>\n",
       "      <td>1.000000</td>\n",
       "      <td>3.000000</td>\n",
       "      <td>200.000000</td>\n",
       "      <td>564.00000</td>\n",
       "      <td>1.000000</td>\n",
       "      <td>2.000000</td>\n",
       "      <td>202.000000</td>\n",
       "      <td>1.000000</td>\n",
       "      <td>6.200000</td>\n",
       "      <td>2.000000</td>\n",
       "      <td>4.000000</td>\n",
       "      <td>3.000000</td>\n",
       "      <td>1.000000</td>\n",
       "    </tr>\n",
       "  </tbody>\n",
       "</table>\n",
       "</div>"
      ],
      "text/plain": [
       "               age          sex           cp     trestbps        chol  \\\n",
       "count  1025.000000  1025.000000  1025.000000  1025.000000  1025.00000   \n",
       "mean     54.434146     0.695610     0.942439   131.611707   246.00000   \n",
       "std       9.072290     0.460373     1.029641    17.516718    51.59251   \n",
       "min      29.000000     0.000000     0.000000    94.000000   126.00000   \n",
       "25%      48.000000     0.000000     0.000000   120.000000   211.00000   \n",
       "50%      56.000000     1.000000     1.000000   130.000000   240.00000   \n",
       "75%      61.000000     1.000000     2.000000   140.000000   275.00000   \n",
       "max      77.000000     1.000000     3.000000   200.000000   564.00000   \n",
       "\n",
       "               fbs      restecg      thalach        exang      oldpeak  \\\n",
       "count  1025.000000  1025.000000  1025.000000  1025.000000  1025.000000   \n",
       "mean      0.149268     0.529756   149.114146     0.336585     1.071512   \n",
       "std       0.356527     0.527878    23.005724     0.472772     1.175053   \n",
       "min       0.000000     0.000000    71.000000     0.000000     0.000000   \n",
       "25%       0.000000     0.000000   132.000000     0.000000     0.000000   \n",
       "50%       0.000000     1.000000   152.000000     0.000000     0.800000   \n",
       "75%       0.000000     1.000000   166.000000     1.000000     1.800000   \n",
       "max       1.000000     2.000000   202.000000     1.000000     6.200000   \n",
       "\n",
       "             slope           ca         thal       target  \n",
       "count  1025.000000  1025.000000  1025.000000  1025.000000  \n",
       "mean      1.385366     0.754146     2.323902     0.513171  \n",
       "std       0.617755     1.030798     0.620660     0.500070  \n",
       "min       0.000000     0.000000     0.000000     0.000000  \n",
       "25%       1.000000     0.000000     2.000000     0.000000  \n",
       "50%       1.000000     0.000000     2.000000     1.000000  \n",
       "75%       2.000000     1.000000     3.000000     1.000000  \n",
       "max       2.000000     4.000000     3.000000     1.000000  "
      ]
     },
     "execution_count": 11,
     "metadata": {},
     "output_type": "execute_result"
    }
   ],
   "source": [
    "heart.describe()"
   ]
  },
  {
   "cell_type": "code",
   "execution_count": 12,
   "id": "d3f8dffe",
   "metadata": {
    "execution": {
     "iopub.execute_input": "2023-07-30T21:18:18.037020Z",
     "iopub.status.busy": "2023-07-30T21:18:18.036673Z",
     "iopub.status.idle": "2023-07-30T21:18:18.291466Z",
     "shell.execute_reply": "2023-07-30T21:18:18.290454Z"
    },
    "papermill": {
     "duration": 0.270324,
     "end_time": "2023-07-30T21:18:18.293691",
     "exception": false,
     "start_time": "2023-07-30T21:18:18.023367",
     "status": "completed"
    },
    "tags": []
   },
   "outputs": [
    {
     "data": {
      "text/plain": [
       "<Axes: >"
      ]
     },
     "execution_count": 12,
     "metadata": {},
     "output_type": "execute_result"
    },
    {
     "data": {
      "image/png": "[encoded data removed]",
      "text/plain": [
       "<Figure size 640x480 with 1 Axes>"
      ]
     },
     "metadata": {},
     "output_type": "display_data"
    }
   ],
   "source": [
    "import seaborn as sns\n",
    "heart['cp'].value_counts().plot.bar()"
   ]
  },
  {
   "cell_type": "code",
   "execution_count": 13,
   "id": "ba3f4b25",
   "metadata": {
    "execution": {
     "iopub.execute_input": "2023-07-30T21:18:18.320987Z",
     "iopub.status.busy": "2023-07-30T21:18:18.320109Z",
     "iopub.status.idle": "2023-07-30T21:18:18.603552Z",
     "shell.execute_reply": "2023-07-30T21:18:18.602609Z"
    },
    "papermill": {
     "duration": 0.299694,
     "end_time": "2023-07-30T21:18:18.605835",
     "exception": false,
     "start_time": "2023-07-30T21:18:18.306141",
     "status": "completed"
    },
    "tags": []
   },
   "outputs": [
    {
     "data": {
      "text/plain": [
       "<Axes: xlabel='cp', ylabel='count'>"
      ]
     },
     "execution_count": 13,
     "metadata": {},
     "output_type": "execute_result"
    },
    {
     "data": {
      "image/png": "[encoded data removed]",
      "text/plain": [
       "<Figure size 640x480 with 1 Axes>"
      ]
     },
     "metadata": {},
     "output_type": "display_data"
    }
   ],
   "source": [
    "sns.countplot(x=heart['cp'],hue=heart['sex'])"
   ]
  },
  {
   "cell_type": "code",
   "execution_count": 14,
   "id": "5a00b4d1",
   "metadata": {
    "execution": {
     "iopub.execute_input": "2023-07-30T21:18:18.632822Z",
     "iopub.status.busy": "2023-07-30T21:18:18.632457Z",
     "iopub.status.idle": "2023-07-30T21:18:18.926389Z",
     "shell.execute_reply": "2023-07-30T21:18:18.925247Z"
    },
    "papermill": {
     "duration": 0.310181,
     "end_time": "2023-07-30T21:18:18.928823",
     "exception": false,
     "start_time": "2023-07-30T21:18:18.618642",
     "status": "completed"
    },
    "tags": []
   },
   "outputs": [
    {
     "data": {
      "text/plain": [
       "<Axes: ylabel='Frequency'>"
      ]
     },
     "execution_count": 14,
     "metadata": {},
     "output_type": "execute_result"
    },
    {
     "data": {
      "image/png": "[encoded data removed]",
      "text/plain": [
       "<Figure size 640x480 with 1 Axes>"
      ]
     },
     "metadata": {},
     "output_type": "display_data"
    }
   ],
   "source": [
    "heart['age'].value_counts().plot.hist()"
   ]
  },
  {
   "cell_type": "code",
   "execution_count": 15,
   "id": "d0003a2b",
   "metadata": {
    "execution": {
     "iopub.execute_input": "2023-07-30T21:18:18.958017Z",
     "iopub.status.busy": "2023-07-30T21:18:18.957633Z",
     "iopub.status.idle": "2023-07-30T21:18:19.260355Z",
     "shell.execute_reply": "2023-07-30T21:18:19.259257Z"
    },
    "papermill": {
     "duration": 0.320505,
     "end_time": "2023-07-30T21:18:19.262543",
     "exception": false,
     "start_time": "2023-07-30T21:18:18.942038",
     "status": "completed"
    },
    "tags": []
   },
   "outputs": [
    {
     "data": {
      "text/plain": [
       "<Axes: xlabel='age', ylabel='Count'>"
      ]
     },
     "execution_count": 15,
     "metadata": {},
     "output_type": "execute_result"
    },
    {
     "data": {
      "image/png": "[encoded data removed]",
      "text/plain": [
       "<Figure size 640x480 with 1 Axes>"
      ]
     },
     "metadata": {},
     "output_type": "display_data"
    }
   ],
   "source": [
    "sns.histplot(heart['age'],kde='true')"
   ]
  },
  {
   "cell_type": "code",
   "execution_count": 16,
   "id": "07d3d169",
   "metadata": {
    "execution": {
     "iopub.execute_input": "2023-07-30T21:18:19.291729Z",
     "iopub.status.busy": "2023-07-30T21:18:19.290835Z",
     "iopub.status.idle": "2023-07-30T21:18:19.563858Z",
     "shell.execute_reply": "2023-07-30T21:18:19.562276Z"
    },
    "papermill": {
     "duration": 0.29097,
     "end_time": "2023-07-30T21:18:19.567025",
     "exception": false,
     "start_time": "2023-07-30T21:18:19.276055",
     "status": "completed"
    },
    "tags": []
   },
   "outputs": [
    {
     "data": {
      "text/plain": [
       "<Axes: xlabel='sex', ylabel='Density'>"
      ]
     },
     "execution_count": 16,
     "metadata": {},
     "output_type": "execute_result"
    },
    {
     "data": {
      "image/png": "[encoded data removed]",
      "text/plain": [
       "<Figure size 640x480 with 1 Axes>"
      ]
     },
     "metadata": {},
     "output_type": "display_data"
    }
   ],
   "source": [
    "sns.kdeplot(heart['sex'])"
   ]
  },
  {
   "cell_type": "code",
   "execution_count": 17,
   "id": "9f5b6a74",
   "metadata": {
    "execution": {
     "iopub.execute_input": "2023-07-30T21:18:19.598185Z",
     "iopub.status.busy": "2023-07-30T21:18:19.597212Z",
     "iopub.status.idle": "2023-07-30T21:18:20.504695Z",
     "shell.execute_reply": "2023-07-30T21:18:20.503586Z"
    },
    "papermill": {
     "duration": 0.925375,
     "end_time": "2023-07-30T21:18:20.507059",
     "exception": false,
     "start_time": "2023-07-30T21:18:19.581684",
     "status": "completed"
    },
    "tags": []
   },
   "outputs": [
    {
     "data": {
      "text/plain": [
       "<Axes: >"
      ]
     },
     "execution_count": 17,
     "metadata": {},
     "output_type": "execute_result"
    },
    {
     "data": {
      "image/png": "[encoded data removed]",
      "text/plain": [
       "<Figure size 2000x2000 with 2 Axes>"
      ]
     },
     "metadata": {},
     "output_type": "display_data"
    }
   ],
   "source": [
    "import matplotlib.pyplot as plt\n",
    "plt.figure(figsize=(20,20))\n",
    "sns.heatmap(heart.describe(),annot=True)"
   ]
  },
  {
   "cell_type": "markdown",
   "id": "e15a16ba",
   "metadata": {
    "papermill": {
     "duration": 0.016856,
     "end_time": "2023-07-30T21:18:20.541234",
     "exception": false,
     "start_time": "2023-07-30T21:18:20.524378",
     "status": "completed"
    },
    "tags": []
   },
   "source": [
    "##  **3. Model Implimentation** "
   ]
  },
  {
   "cell_type": "markdown",
   "id": "71a1bb01",
   "metadata": {
    "papermill": {
     "duration": 0.015353,
     "end_time": "2023-07-30T21:18:20.572278",
     "exception": false,
     "start_time": "2023-07-30T21:18:20.556925",
     "status": "completed"
    },
    "tags": []
   },
   "source": [
    "* **KNN ( K-Nearest Neighbors )**"
   ]
  },
  {
   "cell_type": "code",
   "execution_count": 18,
   "id": "88876c66",
   "metadata": {
    "execution": {
     "iopub.execute_input": "2023-07-30T21:18:20.605964Z",
     "iopub.status.busy": "2023-07-30T21:18:20.605545Z",
     "iopub.status.idle": "2023-07-30T21:18:20.623894Z",
     "shell.execute_reply": "2023-07-30T21:18:20.622656Z"
    },
    "papermill": {
     "duration": 0.038194,
     "end_time": "2023-07-30T21:18:20.626455",
     "exception": false,
     "start_time": "2023-07-30T21:18:20.588261",
     "status": "completed"
    },
    "tags": []
   },
   "outputs": [],
   "source": [
    "knn=KNeighborsClassifier(n_neighbors=5)\n",
    "knn.fit(x_train_new,y_train)\n",
    "y_pred1 = knn.predict(x_test_new)"
   ]
  },
  {
   "cell_type": "markdown",
   "id": "4af8bee7",
   "metadata": {
    "papermill": {
     "duration": 0.015193,
     "end_time": "2023-07-30T21:18:20.657769",
     "exception": false,
     "start_time": "2023-07-30T21:18:20.642576",
     "status": "completed"
    },
    "tags": []
   },
   "source": [
    "* **Decision Tree Classifier**"
   ]
  },
  {
   "cell_type": "code",
   "execution_count": 19,
   "id": "c5f7622e",
   "metadata": {
    "execution": {
     "iopub.execute_input": "2023-07-30T21:18:20.691780Z",
     "iopub.status.busy": "2023-07-30T21:18:20.691421Z",
     "iopub.status.idle": "2023-07-30T21:18:20.700898Z",
     "shell.execute_reply": "2023-07-30T21:18:20.700016Z"
    },
    "papermill": {
     "duration": 0.029704,
     "end_time": "2023-07-30T21:18:20.703052",
     "exception": false,
     "start_time": "2023-07-30T21:18:20.673348",
     "status": "completed"
    },
    "tags": []
   },
   "outputs": [],
   "source": [
    "dtree=DecisionTreeClassifier(random_state=42, max_depth=6)\n",
    "dtree.fit(x_train_new,y_train)\n",
    "y_pred2=dtree.predict(x_test_new)"
   ]
  },
  {
   "cell_type": "markdown",
   "id": "ab50c874",
   "metadata": {
    "papermill": {
     "duration": 0.015345,
     "end_time": "2023-07-30T21:18:20.734571",
     "exception": false,
     "start_time": "2023-07-30T21:18:20.719226",
     "status": "completed"
    },
    "tags": []
   },
   "source": [
    "* **Naive Bayes**"
   ]
  },
  {
   "cell_type": "code",
   "execution_count": 20,
   "id": "cfad1918",
   "metadata": {
    "execution": {
     "iopub.execute_input": "2023-07-30T21:18:20.768513Z",
     "iopub.status.busy": "2023-07-30T21:18:20.767817Z",
     "iopub.status.idle": "2023-07-30T21:18:20.773993Z",
     "shell.execute_reply": "2023-07-30T21:18:20.773151Z"
    },
    "papermill": {
     "duration": 0.025466,
     "end_time": "2023-07-30T21:18:20.776222",
     "exception": false,
     "start_time": "2023-07-30T21:18:20.750756",
     "status": "completed"
    },
    "tags": []
   },
   "outputs": [],
   "source": [
    "g=GaussianNB()\n",
    "g.fit(x_train_new,y_train)\n",
    "y_pred3 = g.predict(x_test_new)"
   ]
  },
  {
   "cell_type": "markdown",
   "id": "5811a6ce",
   "metadata": {
    "papermill": {
     "duration": 0.01633,
     "end_time": "2023-07-30T21:18:20.808980",
     "exception": false,
     "start_time": "2023-07-30T21:18:20.792650",
     "status": "completed"
    },
    "tags": []
   },
   "source": [
    "## 4. **Model Evaluation**"
   ]
  },
  {
   "cell_type": "markdown",
   "id": "1943623a",
   "metadata": {
    "papermill": {
     "duration": 0.015661,
     "end_time": "2023-07-30T21:18:20.841362",
     "exception": false,
     "start_time": "2023-07-30T21:18:20.825701",
     "status": "completed"
    },
    "tags": []
   },
   "source": [
    "* **Accuracy Details of K-Nearest Neighbors ( KNN )**"
   ]
  },
  {
   "cell_type": "code",
   "execution_count": 21,
   "id": "1ce344e6",
   "metadata": {
    "execution": {
     "iopub.execute_input": "2023-07-30T21:18:20.874896Z",
     "iopub.status.busy": "2023-07-30T21:18:20.874128Z",
     "iopub.status.idle": "2023-07-30T21:18:21.048244Z",
     "shell.execute_reply": "2023-07-30T21:18:21.047254Z"
    },
    "papermill": {
     "duration": 0.193218,
     "end_time": "2023-07-30T21:18:21.050501",
     "exception": false,
     "start_time": "2023-07-30T21:18:20.857283",
     "status": "completed"
    },
    "tags": []
   },
   "outputs": [
    {
     "name": "stdout",
     "output_type": "stream",
     "text": [
      "KNN Accuracy: 83 %\n",
      "KNN Precision: 0.83869918699187\n",
      "KNN Recall: 0.8341463414634146\n",
      "KNN F1 score: 0.8335281942268965\n",
      "Confusion Matrix\n",
      "[[79 23]\n",
      " [11 92]]\n"
     ]
    }
   ],
   "source": [
    "accuracy = accuracy_score(y_test, y_pred1)\n",
    "precision = precision_score(y_test,y_pred1,average = \"weighted\")\n",
    "recall = recall_score(y_test,y_pred1,average = \"weighted\")\n",
    "f1 = f1_score(y_test,y_pred1,average = \"weighted\")\n",
    "conf_matrix = confusion_matrix(y_test,y_pred1)\n",
    "\n",
    "print(\"KNN Accuracy:\", int(100*accuracy),\"%\")\n",
    "print(\"KNN Precision:\", precision)\n",
    "print(\"KNN Recall:\", recall)\n",
    "print(\"KNN F1 score:\", f1)\n",
    "print(\"Confusion Matrix\")\n",
    "print(conf_matrix)"
   ]
  },
  {
   "cell_type": "markdown",
   "id": "dce4d6ca",
   "metadata": {
    "papermill": {
     "duration": 0.0158,
     "end_time": "2023-07-30T21:18:21.082662",
     "exception": false,
     "start_time": "2023-07-30T21:18:21.066862",
     "status": "completed"
    },
    "tags": []
   },
   "source": [
    "* **Accuracy Details of Decision Tree Classifier**"
   ]
  },
  {
   "cell_type": "code",
   "execution_count": 22,
   "id": "8efcdaae",
   "metadata": {
    "execution": {
     "iopub.execute_input": "2023-07-30T21:18:21.117263Z",
     "iopub.status.busy": "2023-07-30T21:18:21.116589Z",
     "iopub.status.idle": "2023-07-30T21:18:21.135107Z",
     "shell.execute_reply": "2023-07-30T21:18:21.133286Z"
    },
    "papermill": {
     "duration": 0.038615,
     "end_time": "2023-07-30T21:18:21.137715",
     "exception": false,
     "start_time": "2023-07-30T21:18:21.099100",
     "status": "completed"
    },
    "tags": []
   },
   "outputs": [
    {
     "name": "stdout",
     "output_type": "stream",
     "text": [
      "Decision Tree Classifier Prediction details: \n",
      "\n",
      "Accuracy Score  : 88 %\n",
      "Precision Score : 0.8901368279417059\n",
      "Recall Score    : 0.8829268292682927\n",
      "  f1 Score      : 0.882338662621076\n",
      "Confusion Matrix:\n",
      " [[83 19]\n",
      " [ 5 98]]\n"
     ]
    }
   ],
   "source": [
    "accuracy = accuracy_score(y_test, y_pred2)\n",
    "precision = precision_score(y_test,y_pred2,average = \"weighted\")\n",
    "recall = recall_score(y_test,y_pred2,average = \"weighted\")\n",
    "f1 = f1_score(y_test,y_pred2,average = \"weighted\")\n",
    "conf_matrix = confusion_matrix(y_test,y_pred2)\n",
    "\n",
    "print(\"Decision Tree Classifier Prediction details: \\n\")\n",
    "print(\"Accuracy Score  :\",int(100*accuracy),\"%\")\n",
    "print(\"Precision Score :\",precision)\n",
    "print(\"Recall Score    :\",recall)\n",
    "print(\"  f1 Score      :\",f1)\n",
    "print(\"Confusion Matrix:\\n\",conf_matrix)"
   ]
  },
  {
   "cell_type": "markdown",
   "id": "2ab412b1",
   "metadata": {
    "papermill": {
     "duration": 0.016471,
     "end_time": "2023-07-30T21:18:21.171546",
     "exception": false,
     "start_time": "2023-07-30T21:18:21.155075",
     "status": "completed"
    },
    "tags": []
   },
   "source": [
    "* **Accuracy Details of Naive Bayes**"
   ]
  },
  {
   "cell_type": "code",
   "execution_count": 23,
   "id": "f046e8d9",
   "metadata": {
    "execution": {
     "iopub.execute_input": "2023-07-30T21:18:21.205480Z",
     "iopub.status.busy": "2023-07-30T21:18:21.204815Z",
     "iopub.status.idle": "2023-07-30T21:18:21.221137Z",
     "shell.execute_reply": "2023-07-30T21:18:21.219744Z"
    },
    "papermill": {
     "duration": 0.035475,
     "end_time": "2023-07-30T21:18:21.223222",
     "exception": false,
     "start_time": "2023-07-30T21:18:21.187747",
     "status": "completed"
    },
    "tags": []
   },
   "outputs": [
    {
     "name": "stdout",
     "output_type": "stream",
     "text": [
      "GNB Accuracy: 80 %\n",
      "GNB Precision: 0.8105076041872408\n",
      "GNB Recall: 0.8\n",
      "GNB F1 score: 0.798174174174174\n",
      "Confusion Matrix\n",
      "[[72 30]\n",
      " [11 92]]\n"
     ]
    }
   ],
   "source": [
    "accuracy = accuracy_score(y_test, y_pred3)\n",
    "precision = precision_score(y_test,y_pred3,average = \"weighted\")\n",
    "recall = recall_score(y_test,y_pred3,average = \"weighted\")\n",
    "f1 = f1_score(y_test,y_pred3,average = \"weighted\")\n",
    "conf_matrix = confusion_matrix(y_test,y_pred3)\n",
    "\n",
    "print(\"GNB Accuracy:\", int(100*accuracy),\"%\")\n",
    "print(\"GNB Precision:\", precision)\n",
    "print(\"GNB Recall:\", recall)\n",
    "print(\"GNB F1 score:\", f1)\n",
    "print(\"Confusion Matrix\")\n",
    "print(conf_matrix)"
   ]
  },
  {
   "cell_type": "markdown",
   "id": "0ec0cfc3",
   "metadata": {
    "papermill": {
     "duration": 0.016205,
     "end_time": "2023-07-30T21:18:21.255742",
     "exception": false,
     "start_time": "2023-07-30T21:18:21.239537",
     "status": "completed"
    },
    "tags": []
   },
   "source": [
    "* **Total Accuracy details**"
   ]
  },
  {
   "cell_type": "code",
   "execution_count": 24,
   "id": "ad6b7ae7",
   "metadata": {
    "execution": {
     "iopub.execute_input": "2023-07-30T21:18:21.290873Z",
     "iopub.status.busy": "2023-07-30T21:18:21.290510Z",
     "iopub.status.idle": "2023-07-30T21:18:21.301741Z",
     "shell.execute_reply": "2023-07-30T21:18:21.300793Z"
    },
    "papermill": {
     "duration": 0.031605,
     "end_time": "2023-07-30T21:18:21.303943",
     "exception": false,
     "start_time": "2023-07-30T21:18:21.272338",
     "status": "completed"
    },
    "tags": []
   },
   "outputs": [],
   "source": [
    "result=pd.DataFrame({'Model':['K-Nearest Neighbors','Decision Tree Classifier','Naive Bayes'],'Accuracy':[recall_score(y_pred1,y_test)*100,recall_score(y_pred2,y_test)*100,recall_score(y_pred3,y_test)*100]})"
   ]
  },
  {
   "cell_type": "code",
   "execution_count": 25,
   "id": "f10f7f31",
   "metadata": {
    "execution": {
     "iopub.execute_input": "2023-07-30T21:18:21.338477Z",
     "iopub.status.busy": "2023-07-30T21:18:21.337708Z",
     "iopub.status.idle": "2023-07-30T21:18:21.348413Z",
     "shell.execute_reply": "2023-07-30T21:18:21.347049Z"
    },
    "papermill": {
     "duration": 0.030664,
     "end_time": "2023-07-30T21:18:21.350674",
     "exception": false,
     "start_time": "2023-07-30T21:18:21.320010",
     "status": "completed"
    },
    "tags": []
   },
   "outputs": [
    {
     "data": {
      "text/html": [
       "<div>\n",
       "<style scoped>\n",
       "    .dataframe tbody tr th:only-of-type {\n",
       "        vertical-align: middle;\n",
       "    }\n",
       "\n",
       "    .dataframe tbody tr th {\n",
       "        vertical-align: top;\n",
       "    }\n",
       "\n",
       "    .dataframe thead th {\n",
       "        text-align: right;\n",
       "    }\n",
       "</style>\n",
       "<table border=\"1\" class=\"dataframe\">\n",
       "  <thead>\n",
       "    <tr style=\"text-align: right;\">\n",
       "      <th></th>\n",
       "      <th>Model</th>\n",
       "      <th>Accuracy</th>\n",
       "    </tr>\n",
       "  </thead>\n",
       "  <tbody>\n",
       "    <tr>\n",
       "      <th>0</th>\n",
       "      <td>K-Nearest Neighbors</td>\n",
       "      <td>80.000000</td>\n",
       "    </tr>\n",
       "    <tr>\n",
       "      <th>1</th>\n",
       "      <td>Decision Tree Classifier</td>\n",
       "      <td>83.760684</td>\n",
       "    </tr>\n",
       "    <tr>\n",
       "      <th>2</th>\n",
       "      <td>Naive Bayes</td>\n",
       "      <td>75.409836</td>\n",
       "    </tr>\n",
       "  </tbody>\n",
       "</table>\n",
       "</div>"
      ],
      "text/plain": [
       "                      Model   Accuracy\n",
       "0       K-Nearest Neighbors  80.000000\n",
       "1  Decision Tree Classifier  83.760684\n",
       "2               Naive Bayes  75.409836"
      ]
     },
     "execution_count": 25,
     "metadata": {},
     "output_type": "execute_result"
    }
   ],
   "source": [
    "result"
   ]
  },
  {
   "cell_type": "markdown",
   "id": "18bc82b3",
   "metadata": {
    "papermill": {
     "duration": 0.016665,
     "end_time": "2023-07-30T21:18:21.384950",
     "exception": false,
     "start_time": "2023-07-30T21:18:21.368285",
     "status": "completed"
    },
    "tags": []
   },
   "source": [
    "## **5. Cross Validation**"
   ]
  },
  {
   "cell_type": "code",
   "execution_count": 26,
   "id": "452118c7",
   "metadata": {
    "execution": {
     "iopub.execute_input": "2023-07-30T21:18:21.420604Z",
     "iopub.status.busy": "2023-07-30T21:18:21.420223Z",
     "iopub.status.idle": "2023-07-30T21:18:21.424586Z",
     "shell.execute_reply": "2023-07-30T21:18:21.423505Z"
    },
    "papermill": {
     "duration": 0.024494,
     "end_time": "2023-07-30T21:18:21.426559",
     "exception": false,
     "start_time": "2023-07-30T21:18:21.402065",
     "status": "completed"
    },
    "tags": []
   },
   "outputs": [],
   "source": [
    "from sklearn.model_selection import cross_val_score"
   ]
  },
  {
   "cell_type": "markdown",
   "id": "6d54c20f",
   "metadata": {
    "papermill": {
     "duration": 0.015956,
     "end_time": "2023-07-30T21:18:21.459452",
     "exception": false,
     "start_time": "2023-07-30T21:18:21.443496",
     "status": "completed"
    },
    "tags": []
   },
   "source": [
    "* **Cross Validation of K-Nearest Neighbors ( KNN )**"
   ]
  },
  {
   "cell_type": "code",
   "execution_count": 27,
   "id": "7c22b57a",
   "metadata": {
    "execution": {
     "iopub.execute_input": "2023-07-30T21:18:21.494062Z",
     "iopub.status.busy": "2023-07-30T21:18:21.492932Z",
     "iopub.status.idle": "2023-07-30T21:18:21.580686Z",
     "shell.execute_reply": "2023-07-30T21:18:21.579590Z"
    },
    "papermill": {
     "duration": 0.107381,
     "end_time": "2023-07-30T21:18:21.582911",
     "exception": false,
     "start_time": "2023-07-30T21:18:21.475530",
     "status": "completed"
    },
    "tags": []
   },
   "outputs": [
    {
     "data": {
      "text/plain": [
       "array([0.87804878, 0.8902439 , 0.85365854, 0.82926829, 0.87804878,\n",
       "       0.86585366, 0.87804878, 0.79268293, 0.80487805, 0.7804878 ])"
      ]
     },
     "execution_count": 27,
     "metadata": {},
     "output_type": "execute_result"
    }
   ],
   "source": [
    "scores1 = cross_val_score(knn, x_train_new, y_train, cv=10)\n",
    "scores1"
   ]
  },
  {
   "cell_type": "markdown",
   "id": "b6d54372",
   "metadata": {
    "papermill": {
     "duration": 0.016234,
     "end_time": "2023-07-30T21:18:21.615766",
     "exception": false,
     "start_time": "2023-07-30T21:18:21.599532",
     "status": "completed"
    },
    "tags": []
   },
   "source": [
    "* **Cross Validation of Decision Tree Classifier**"
   ]
  },
  {
   "cell_type": "code",
   "execution_count": 28,
   "id": "91f323f7",
   "metadata": {
    "execution": {
     "iopub.execute_input": "2023-07-30T21:18:21.650030Z",
     "iopub.status.busy": "2023-07-30T21:18:21.649071Z",
     "iopub.status.idle": "2023-07-30T21:18:21.699446Z",
     "shell.execute_reply": "2023-07-30T21:18:21.698259Z"
    },
    "papermill": {
     "duration": 0.069804,
     "end_time": "2023-07-30T21:18:21.701700",
     "exception": false,
     "start_time": "2023-07-30T21:18:21.631896",
     "status": "completed"
    },
    "tags": []
   },
   "outputs": [
    {
     "data": {
      "text/plain": [
       "array([0.92682927, 0.93902439, 0.92682927, 0.8902439 , 0.93902439,\n",
       "       0.91463415, 0.95121951, 0.97560976, 0.91463415, 0.87804878])"
      ]
     },
     "execution_count": 28,
     "metadata": {},
     "output_type": "execute_result"
    }
   ],
   "source": [
    "scores2 = cross_val_score(dtree, x_train_new, y_train, cv=10)\n",
    "scores2"
   ]
  },
  {
   "cell_type": "markdown",
   "id": "7c6e2606",
   "metadata": {
    "papermill": {
     "duration": 0.015813,
     "end_time": "2023-07-30T21:18:21.733872",
     "exception": false,
     "start_time": "2023-07-30T21:18:21.718059",
     "status": "completed"
    },
    "tags": []
   },
   "source": [
    "* **Cross Validation of Naive Bayes**"
   ]
  },
  {
   "cell_type": "code",
   "execution_count": 29,
   "id": "d9c546f6",
   "metadata": {
    "execution": {
     "iopub.execute_input": "2023-07-30T21:18:21.768369Z",
     "iopub.status.busy": "2023-07-30T21:18:21.767725Z",
     "iopub.status.idle": "2023-07-30T21:18:21.800179Z",
     "shell.execute_reply": "2023-07-30T21:18:21.798952Z"
    },
    "papermill": {
     "duration": 0.051715,
     "end_time": "2023-07-30T21:18:21.802224",
     "exception": false,
     "start_time": "2023-07-30T21:18:21.750509",
     "status": "completed"
    },
    "tags": []
   },
   "outputs": [
    {
     "data": {
      "text/plain": [
       "array([0.84146341, 0.81707317, 0.82926829, 0.79268293, 0.84146341,\n",
       "       0.82926829, 0.8902439 , 0.85365854, 0.79268293, 0.80487805])"
      ]
     },
     "execution_count": 29,
     "metadata": {},
     "output_type": "execute_result"
    }
   ],
   "source": [
    "scores3 = cross_val_score(g, x_train_new, y_train, cv=10)\n",
    "scores3"
   ]
  },
  {
   "cell_type": "markdown",
   "id": "0d2b315e",
   "metadata": {
    "papermill": {
     "duration": 0.016155,
     "end_time": "2023-07-30T21:18:21.834954",
     "exception": false,
     "start_time": "2023-07-30T21:18:21.818799",
     "status": "completed"
    },
    "tags": []
   },
   "source": [
    "# Question And Answers"
   ]
  },
  {
   "cell_type": "markdown",
   "id": "9a0cfda3",
   "metadata": {
    "papermill": {
     "duration": 0.016151,
     "end_time": "2023-07-30T21:18:21.867661",
     "exception": false,
     "start_time": "2023-07-30T21:18:21.851510",
     "status": "completed"
    },
    "tags": []
   },
   "source": [
    "#### **Question-1. Which Python libraries did you find most useful in loading and exploring the dataset?**"
   ]
  },
  {
   "cell_type": "markdown",
   "id": "935c2c65",
   "metadata": {
    "papermill": {
     "duration": 0.016073,
     "end_time": "2023-07-30T21:18:21.900117",
     "exception": false,
     "start_time": "2023-07-30T21:18:21.884044",
     "status": "completed"
    },
    "tags": []
   },
   "source": [
    "#### **Answer -** I find the following Library useful -\n",
    "* ####   Pandas Library most useful in loading the dataset\n",
    "* ####   and Matplotlib and Seaborn Library for Exploring the Dataset"
   ]
  },
  {
   "cell_type": "markdown",
   "id": "d35cfb6c",
   "metadata": {
    "papermill": {
     "duration": 0.016144,
     "end_time": "2023-07-30T21:18:21.932877",
     "exception": false,
     "start_time": "2023-07-30T21:18:21.916733",
     "status": "completed"
    },
    "tags": []
   },
   "source": [
    "#### **Question-2. What preprocessing steps did you find necessary to apply to the heart dataset?**"
   ]
  },
  {
   "cell_type": "markdown",
   "id": "10d816cd",
   "metadata": {
    "papermill": {
     "duration": 0.017865,
     "end_time": "2023-07-30T21:18:21.967980",
     "exception": false,
     "start_time": "2023-07-30T21:18:21.950115",
     "status": "completed"
    },
    "tags": []
   },
   "source": [
    "#### **Answer -** I did the following the steps for data preprocessing:-\n",
    "#### Step 1 : Import the data-set\n",
    "#### Step 2 : Import the libraries\n",
    "#### Step 3 : Check out the missing values\n",
    "#### Step 4 : Splitting the data-set into Training and Test Set¶\n",
    "#### Step 5 : Feature Scaling."
   ]
  },
  {
   "cell_type": "markdown",
   "id": "650cf909",
   "metadata": {
    "papermill": {
     "duration": 0.016081,
     "end_time": "2023-07-30T21:18:22.001073",
     "exception": false,
     "start_time": "2023-07-30T21:18:21.984992",
     "status": "completed"
    },
    "tags": []
   },
   "source": [
    "#### **Question-3. What metrics were used to evaluate the Classification problem and why?**"
   ]
  },
  {
   "cell_type": "markdown",
   "id": "9f4e6529",
   "metadata": {
    "papermill": {
     "duration": 0.016047,
     "end_time": "2023-07-30T21:18:22.033858",
     "exception": false,
     "start_time": "2023-07-30T21:18:22.017811",
     "status": "completed"
    },
    "tags": []
   },
   "source": [
    "#### **Answer -** I used Confusion Matrix, Accuracy, Precision, Recall, f1 Score & Cross Val Score to check the accuracy of the predictive model I use these metrics because these metrics help assess the classifier’s effectiveness in correctly classifying instances of different classes"
   ]
  },
  {
   "cell_type": "markdown",
   "id": "70f8c203",
   "metadata": {
    "papermill": {
     "duration": 0.015903,
     "end_time": "2023-07-30T21:18:22.066035",
     "exception": false,
     "start_time": "2023-07-30T21:18:22.050132",
     "status": "completed"
    },
    "tags": []
   },
   "source": [
    "#### **Question-4. How did you detect overfitting in the model and what strategies did you use to mitigate it?**"
   ]
  },
  {
   "cell_type": "markdown",
   "id": "1c6721c7",
   "metadata": {
    "papermill": {
     "duration": 0.015868,
     "end_time": "2023-07-30T21:18:22.098155",
     "exception": false,
     "start_time": "2023-07-30T21:18:22.082287",
     "status": "completed"
    },
    "tags": []
   },
   "source": [
    "#### **Answer -** I determine whether a predictive model is overfitting or not by testing the machine learning models on more data with with comprehensive representation of possible input data values and types"
   ]
  },
  {
   "cell_type": "markdown",
   "id": "f08b8f86",
   "metadata": {
    "papermill": {
     "duration": 0.016876,
     "end_time": "2023-07-30T21:18:22.131246",
     "exception": false,
     "start_time": "2023-07-30T21:18:22.114370",
     "status": "completed"
    },
    "tags": []
   },
   "source": [
    "#### **Question-5. How did you choose the number of clusters for the K-means algorithm? explain why?**"
   ]
  },
  {
   "cell_type": "markdown",
   "id": "29e7b2f4",
   "metadata": {
    "papermill": {
     "duration": 0.018648,
     "end_time": "2023-07-30T21:18:22.166323",
     "exception": false,
     "start_time": "2023-07-30T21:18:22.147675",
     "status": "completed"
    },
    "tags": []
   },
   "source": [
    "#### **Answer -** There are many ways to choose the number of clusters for K-Means like by using Elbow Method, Silhouette Method and Gap Statistic"
   ]
  }
 ],
 "metadata": {
  "kernelspec": {
   "display_name": "Python 3",
   "language": "python",
   "name": "python3"
  },
  "language_info": {
   "codemirror_mode": {
    "name": "ipython",
    "version": 3
   },
   "file_extension": ".py",
   "mimetype": "text/x-python",
   "name": "python",
   "nbconvert_exporter": "python",
   "pygments_lexer": "ipython3",
   "version": "3.10.12"
  },
  "papermill": {
   "default_parameters": {},
   "duration": 17.165792,
   "end_time": "2023-07-30T21:18:23.205529",
   "environment_variables": {},
   "exception": null,
   "input_path": "__notebook__.ipynb",
   "output_path": "__notebook__.ipynb",
   "parameters": {},
   "start_time": "2023-07-30T21:18:06.039737",
   "version": "2.4.0"
  }
 },
 "nbformat": 4,
 "nbformat_minor": 5
}
